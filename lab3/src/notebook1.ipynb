{
 "cells": [
  {
   "cell_type": "code",
   "execution_count": 6,
   "metadata": {},
   "outputs": [],
   "source": [
    "import json\n",
    "import pandas\n",
    "import os\n",
    "import re\n",
    "from collections import Counter\n",
    "\n",
    "import matplotlib.pyplot as plt\n",
    "import numpy as np\n",
    "\n",
    "from constants import *"
   ]
  },
  {
   "cell_type": "code",
   "execution_count": 7,
   "metadata": {},
   "outputs": [
    {
     "data": {
      "text/plain": [
       "[('na', 42894),\n",
       " ('do', 37881),\n",
       " ('nie', 30528),\n",
       " ('że', 22479),\n",
       " ('art', 18558),\n",
       " ('dnia', 18348),\n",
       " ('się', 18090),\n",
       " ('od', 16639),\n",
       " ('przez', 15630),\n",
       " ('sąd', 14021)]"
      ]
     },
     "execution_count": 7,
     "metadata": {},
     "output_type": "execute_result"
    }
   ],
   "source": [
    "all_text = \"\"\n",
    "json_files = os.listdir(json_data_dir)\n",
    "judgements_in_year = list(filter(lambda name: re.match(filesInYearPattern, name), json_files))\n",
    "\n",
    "for filename in judgements_in_year:\n",
    "    with open(os.path.join(json_data_dir, filename), 'r') as jsonFile:\n",
    "        judgements = json.load(jsonFile)['items']\n",
    "    year_filtered = filter(lambda item: year in item['judgmentDate'], judgements)\n",
    "    texts = map(lambda item: item['textContent'], year_filtered)\n",
    "    joined = \" \".join(texts)\n",
    "    notags = re.sub(r\"<[^>]*>\", \" \", joined)\n",
    "    nobreaks = re.sub(r\"-\\n\", \" \", notags)\n",
    "    nodigits = re.sub(r\"\\d+\", \" \", nobreaks)\n",
    "    noroman = re.sub(r\"\\b[XVILMC]+\\b\", \"\", nodigits)\n",
    "    lower = noroman.lower()\n",
    "    all_text += lower\n",
    "\n",
    "counted_words = Counter(re.findall(r'\\w{2,}', all_text))\n",
    "counted_words.most_common(10)"
   ]
  },
  {
   "cell_type": "code",
   "execution_count": 8,
   "metadata": {},
   "outputs": [],
   "source": [
    "with open('list.txt', 'w') as file:\n",
    "    frequencies = counted_words.most_common()\n",
    "    words = map(lambda x: f\"{x[0]};{x[1]}\\n\", frequencies)\n",
    "    file.writelines(words)"
   ]
  },
  {
   "cell_type": "code",
   "execution_count": 9,
   "metadata": {},
   "outputs": [
    {
     "name": "stderr",
     "output_type": "stream",
     "text": [
      "/home/marcin/tens1-6/lib/python3.6/site-packages/matplotlib/figure.py:459: UserWarning: matplotlib is currently using a non-GUI backend, so cannot show the figure\n",
      "  \"matplotlib is currently using a non-GUI backend, \"\n"
     ]
    },
    {
     "data": {
      "image/png": "[encoded data removed]",
      "text/plain": [
       "<Figure size 432x288 with 1 Axes>"
      ]
     },
     "metadata": {},
     "output_type": "display_data"
    }
   ],
   "source": [
    "labels, values = zip(*counted_words.most_common())\n",
    "indexes = np.arange(len(labels))\n",
    "plt.loglog(indexes, values)\n",
    "fig = plt.gcf()\n",
    "fig.show()"
   ]
  },
  {
   "cell_type": "code",
   "execution_count": 10,
   "metadata": {},
   "outputs": [],
   "source": [
    "pd = pandas.read_csv('../polimorfologik-2.1.txt',header=None,sep=\";\", usecols=[1])"
   ]
  },
  {
   "cell_type": "code",
   "execution_count": 11,
   "metadata": {},
   "outputs": [
    {
     "data": {
      "text/plain": [
       "['petendi',\n",
       " 'mpa',\n",
       " 'źe',\n",
       " 'nowoutworzone',\n",
       " 'wewnątrzczaszkowej',\n",
       " 'rzeciwwskazania',\n",
       " 'ra',\n",
       " 'cych',\n",
       " 'metanogenzę',\n",
       " 'gearbox',\n",
       " 'email',\n",
       " 'insurance',\n",
       " 'alibijnych',\n",
       " 'sztykiel',\n",
       " 'ek',\n",
       " 'acr',\n",
       " 'wykonywałą',\n",
       " 'kpw',\n",
       " 'czp',\n",
       " 'oi',\n",
       " 'wskazowego',\n",
       " 'upoś',\n",
       " 'jendak',\n",
       " 'zezn',\n",
       " 'chilczuk',\n",
       " 'przestrzeniu',\n",
       " 'plaskacz',\n",
       " 'polbruk',\n",
       " 'kluwer',\n",
       " 'grajoszka']"
      ]
     },
     "execution_count": 11,
     "metadata": {},
     "output_type": "execute_result"
    }
   ],
   "source": [
    "dictionary_set = set(pd[1].str.lower())\n",
    "\n",
    "words_set = set(counted_words)\n",
    "\n",
    "non_dictionary_words = words_set - dictionary_set\n",
    "non_dict_list = list(non_dictionary_words)\n",
    "examples = non_dict_list[:30]\n",
    "examples\n"
   ]
  },
  {
   "cell_type": "code",
   "execution_count": 12,
   "metadata": {},
   "outputs": [],
   "source": [
    "\n",
    "\n",
    "def words(text): return re.findall(r'\\w+', text.lower())\n",
    "\n",
    "WORDS =counted_words \n",
    "\n",
    "def P(word, N=sum(WORDS.values())): \n",
    "    \"Probability of `word`.\"\n",
    "    return WORDS[word] / N\n",
    "\n",
    "def correction(word): \n",
    "    \"Most probable spelling correction for word.\"\n",
    "    return max(candidates(word), key=P)\n",
    "\n",
    "def candidates(word): \n",
    "    \"Generate possible spelling corrections for word.\"\n",
    "    return (known([word]) or known(edits1(word)) or known(edits2(word)) or [word])\n",
    "\n",
    "def known(words): \n",
    "    \"The subset of `words` that appear in the dictionary of WORDS.\"\n",
    "    return set(w for w in words if w in dictionary_set)\n",
    "\n",
    "def edits1(word):\n",
    "    \"All edits that are one edit away from `word`.\"\n",
    "    letters    = 'abcdefghijklmnopqrstuvwxyząćęłóśźż'\n",
    "    splits     = [(word[:i], word[i:])    for i in range(len(word) + 1)]\n",
    "    deletes    = [L + R[1:]               for L, R in splits if R]\n",
    "    transposes = [L + R[1] + R[0] + R[2:] for L, R in splits if len(R)>1]\n",
    "    replaces   = [L + c + R[1:]           for L, R in splits if R for c in letters]\n",
    "    inserts    = [L + c + R               for L, R in splits for c in letters]\n",
    "    return set(deletes + transposes + replaces + inserts)\n",
    "\n",
    "def edits2(word): \n",
    "    \"All edits that are two edits away from `word`.\"\n",
    "    return (e2 for e1 in edits1(word) for e2 in edits1(e1))"
   ]
  },
  {
   "cell_type": "code",
   "execution_count": 14,
   "metadata": {},
   "outputs": [
    {
     "data": {
      "text/plain": [
       "[('petendi', 'petenci'),\n",
       " ('mpa', 'ma'),\n",
       " ('źe', 'że'),\n",
       " ('nowoutworzone', 'nowoutworzone'),\n",
       " ('wewnątrzczaszkowej', 'wewnątrzczaszkowej'),\n",
       " ('rzeciwwskazania', 'przeciwwskazania'),\n",
       " ('ra', 'na'),\n",
       " ('cych', 'tych'),\n",
       " ('metanogenzę', 'metanogenzę'),\n",
       " ('gearbox', 'garbo'),\n",
       " ('email', 'mail'),\n",
       " ('insurance', 'naurance'),\n",
       " ('alibijnych', 'amfibijnych'),\n",
       " ('sztykiel', 'sztykiem'),\n",
       " ('ek', 'kk'),\n",
       " ('acr', 'ac'),\n",
       " ('wykonywałą', 'wykonywał'),\n",
       " ('kpw', 'kpc'),\n",
       " ('czp', 'czy'),\n",
       " ('oi', 'od'),\n",
       " ('wskazowego', 'wskazanego'),\n",
       " ('upoś', 'uproś'),\n",
       " ('jendak', 'jednak'),\n",
       " ('zezn', 'zez'),\n",
       " ('chilczuk', 'ilczuk'),\n",
       " ('przestrzeniu', 'przestrzeni'),\n",
       " ('plaskacz', 'klaskacz'),\n",
       " ('polbruk', 'polaru'),\n",
       " ('kluwer', 'kliwer'),\n",
       " ('grajoszka', 'groszka')]"
      ]
     },
     "execution_count": 14,
     "metadata": {},
     "output_type": "execute_result"
    }
   ],
   "source": [
    "list(map(lambda word: (word, correction(word)),examples))"
   ]
  }
 ],
 "metadata": {
  "kernelspec": {
   "display_name": "Python 3",
   "language": "python",
   "name": "python3"
  },
  "language_info": {
   "codemirror_mode": {
    "name": "ipython",
    "version": 3
   },
   "file_extension": ".py",
   "mimetype": "text/x-python",
   "name": "python",
   "nbconvert_exporter": "python",
   "pygments_lexer": "ipython3",
   "version": "3.6.3"
  }
 },
 "nbformat": 4,
 "nbformat_minor": 2
}
