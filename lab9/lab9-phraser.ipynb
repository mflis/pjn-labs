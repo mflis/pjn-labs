{
 "cells": [
  {
   "cell_type": "code",
   "execution_count": 6,
   "metadata": {},
   "outputs": [],
   "source": [
    "import matplotlib.pyplot as plt\n",
    "from gensim.models.phrases import Phrases, Phraser\n",
    "from gensim.models.word2vec import LineSentence\n"
   ]
  },
  {
   "cell_type": "code",
   "execution_count": 13,
   "metadata": {},
   "outputs": [],
   "source": [
    "judgements = LineSentence('data/raw-text.data', limit=None)\n",
    "\n",
    "bigram = Phraser(Phrases(judgements))\n",
    "trigram = Phraser(Phrases(bigram_transformer[judgements]))\n"
   ]
  },
  {
   "cell_type": "code",
   "execution_count": 14,
   "metadata": {},
   "outputs": [
    {
     "data": {
      "text/plain": [
       "['tytułem_wynagrodzenia',\n",
       " 'dla',\n",
       " 'biegłego',\n",
       " 'z',\n",
       " 'zakresu_ruchu_drogowego',\n",
       " 'za',\n",
       " 'złożenie',\n",
       " 'ustnej_opinii',\n",
       " 'w',\n",
       " 'sprawie,',\n",
       " '-',\n",
       " 'kwota',\n",
       " '100',\n",
       " 'złotych_tytułem',\n",
       " 'zryczałtowanych_wydatków',\n",
       " 'postępowania',\n",
       " 'na_podstawie']"
      ]
     },
     "execution_count": 14,
     "metadata": {},
     "output_type": "execute_result"
    }
   ],
   "source": [
    "sent = \"tytułem wynagrodzenia dla biegłego z zakresu ruchu drogowego za złożenie ustnej opinii w sprawie, - kwota 100 złotych tytułem zryczałtowanych wydatków postępowania na podstawie\".split()\n",
    "\n",
    "trigram[bigram[sent]]"
   ]
  },
  {
   "cell_type": "code",
   "execution_count": 17,
   "metadata": {},
   "outputs": [],
   "source": [
    "bigram_saved = 'data/bigram_state.data'\n",
    "trigram_saved = 'data/trigram_state.data'"
   ]
  },
  {
   "cell_type": "code",
   "execution_count": 16,
   "metadata": {},
   "outputs": [],
   "source": [
    "bigram.save(bigram_saved)\n",
    "trigram.save(trigram_saved)"
   ]
  },
  {
   "cell_type": "code",
   "execution_count": 18,
   "metadata": {},
   "outputs": [],
   "source": [
    "bi_loaded = Phraser.load(bigram_saved)\n",
    "tri_loaded = Phraser.load(trigram_saved)"
   ]
  },
  {
   "cell_type": "code",
   "execution_count": 19,
   "metadata": {},
   "outputs": [
    {
     "data": {
      "text/plain": [
       "['tytułem_wynagrodzenia',\n",
       " 'dla',\n",
       " 'biegłego',\n",
       " 'z',\n",
       " 'zakresu_ruchu_drogowego',\n",
       " 'za',\n",
       " 'złożenie',\n",
       " 'ustnej_opinii',\n",
       " 'w',\n",
       " 'sprawie,',\n",
       " '-',\n",
       " 'kwota',\n",
       " '100',\n",
       " 'złotych_tytułem',\n",
       " 'zryczałtowanych_wydatków',\n",
       " 'postępowania',\n",
       " 'na_podstawie']"
      ]
     },
     "execution_count": 19,
     "metadata": {},
     "output_type": "execute_result"
    }
   ],
   "source": [
    "\n",
    "tri_loaded[bi_loaded[sent]]"
   ]
  }
 ],
 "metadata": {
  "kernelspec": {
   "display_name": "Python 3",
   "language": "python",
   "name": "python3"
  },
  "language_info": {
   "codemirror_mode": {
    "name": "ipython",
    "version": 3
   },
   "file_extension": ".py",
   "mimetype": "text/x-python",
   "name": "python",
   "nbconvert_exporter": "python",
   "pygments_lexer": "ipython3",
   "version": "3.6.3"
  }
 },
 "nbformat": 4,
 "nbformat_minor": 2
}
