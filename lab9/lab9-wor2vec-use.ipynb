{
 "cells": [
  {
   "cell_type": "code",
   "execution_count": 39,
   "metadata": {},
   "outputs": [],
   "source": [
    "from gensim.models.word2vec import LineSentence, Word2Vec\n",
    "from gensim.models import KeyedVectors\n",
    "from sklearn.manifold import TSNE\n",
    "import matplotlib.pyplot as plt"
   ]
  },
  {
   "cell_type": "code",
   "execution_count": 2,
   "metadata": {},
   "outputs": [],
   "source": [
    "word_vectors = KeyedVectors.load_word2vec_format(\n",
    "    'data/vec.data', binary=False)  # C text format"
   ]
  },
  {
   "cell_type": "markdown",
   "metadata": {},
   "source": [
    "### Znajdź 3 najbardziej podobne wyrażenia (słowa i zwroty) dla następujących wyrażeń: "
   ]
  },
  {
   "cell_type": "code",
   "execution_count": 5,
   "metadata": {},
   "outputs": [
    {
     "data": {
      "text/plain": [
       "[('k.p.k.', 0.9238308668136597),\n",
       " ('§_1_kpk', 0.8046623468399048),\n",
       " ('k.p.k', 0.801763653755188)]"
      ]
     },
     "execution_count": 5,
     "metadata": {},
     "output_type": "execute_result"
    }
   ],
   "source": [
    "word_vectors.similar_by_word('kpk', 3)"
   ]
  },
  {
   "cell_type": "code",
   "execution_count": 7,
   "metadata": {},
   "outputs": [
    {
     "data": {
      "text/plain": [
       "[('sąd_najwyższy,', 0.7725378274917603),\n",
       " ('sad_najwyższy', 0.7517997026443481),\n",
       " ('trybunał_konstytucyjny', 0.7267873883247375)]"
      ]
     },
     "execution_count": 7,
     "metadata": {},
     "output_type": "execute_result"
    }
   ],
   "source": [
    "word_vectors.similar_by_word('sąd_najwyższy', 3)"
   ]
  },
  {
   "cell_type": "code",
   "execution_count": 9,
   "metadata": {},
   "outputs": [
    {
     "data": {
      "text/plain": [
       "[('trybunał', 0.7671581506729126),\n",
       " ('sąd_najwyższy', 0.7267873883247375),\n",
       " ('tsue', 0.6620593070983887)]"
      ]
     },
     "execution_count": 9,
     "metadata": {},
     "output_type": "execute_result"
    }
   ],
   "source": [
    "word_vectors.similar_by_word('trybunał_konstytucyjny', 3)"
   ]
  },
  {
   "cell_type": "code",
   "execution_count": 10,
   "metadata": {},
   "outputs": [
    {
     "data": {
      "text/plain": [
       "[('prawo_wekslowe', 0.5703046321868896),\n",
       " ('kodeks_wykroczeń', 0.5488859415054321),\n",
       " ('kodeks', 0.5200016498565674)]"
      ]
     },
     "execution_count": 10,
     "metadata": {},
     "output_type": "execute_result"
    }
   ],
   "source": [
    "word_vectors.similar_by_word('kodeks_cywilny', 3)"
   ]
  },
  {
   "cell_type": "code",
   "execution_count": 11,
   "metadata": {},
   "outputs": [
    {
     "data": {
      "text/plain": [
       "[('k.p.k.', 0.9238308668136597),\n",
       " ('§_1_kpk', 0.8046623468399048),\n",
       " ('k.p.k', 0.801763653755188)]"
      ]
     },
     "execution_count": 11,
     "metadata": {},
     "output_type": "execute_result"
    }
   ],
   "source": [
    "word_vectors.similar_by_word('kpk', 3)"
   ]
  },
  {
   "cell_type": "code",
   "execution_count": 12,
   "metadata": {},
   "outputs": [
    {
     "data": {
      "text/plain": [
       "[('sąd_okręgowy', 0.8708255290985107),\n",
       " ('sad_rejonowy', 0.8605306148529053),\n",
       " ('sąd_meriti', 0.8116050958633423)]"
      ]
     },
     "execution_count": 12,
     "metadata": {},
     "output_type": "execute_result"
    }
   ],
   "source": [
    "word_vectors.similar_by_word('sąd_rejonowy', 3)"
   ]
  },
  {
   "cell_type": "code",
   "execution_count": 13,
   "metadata": {},
   "outputs": [
    {
     "data": {
      "text/plain": [
       "[('szkoda_ta', 0.7051692605018616),\n",
       " ('szkoda_majątkowa', 0.6625838279724121),\n",
       " ('ewentualna_szkoda', 0.6476234197616577)]"
      ]
     },
     "execution_count": 13,
     "metadata": {},
     "output_type": "execute_result"
    }
   ],
   "source": [
    "word_vectors.similar_by_word('szkoda', 3)"
   ]
  },
  {
   "cell_type": "code",
   "execution_count": 14,
   "metadata": {},
   "outputs": [
    {
     "data": {
      "text/plain": [
       "[('zaistniały_wypadek', 0.5350655913352966),\n",
       " ('wypadek,', 0.5137117505073547),\n",
       " ('śmiertelny_wypadek', 0.4815601706504822)]"
      ]
     },
     "execution_count": 14,
     "metadata": {},
     "output_type": "execute_result"
    }
   ],
   "source": [
    "word_vectors.similar_by_word('wypadek', 3)"
   ]
  },
  {
   "cell_type": "code",
   "execution_count": 15,
   "metadata": {},
   "outputs": [
    {
     "data": {
      "text/plain": [
       "[('sytuacja_odwrotna.', 0.5350037813186646),\n",
       " ('awantura', 0.5323173999786377),\n",
       " ('kolizja_drogowa', 0.5318514108657837)]"
      ]
     },
     "execution_count": 15,
     "metadata": {},
     "output_type": "execute_result"
    }
   ],
   "source": [
    "word_vectors.similar_by_word('kolizja', 3)"
   ]
  },
  {
   "cell_type": "code",
   "execution_count": 16,
   "metadata": {},
   "outputs": [
    {
     "data": {
      "text/plain": [
       "[('szkoda', 0.6625838279724121),\n",
       " ('szkoda_niemajątkowa', 0.5895721912384033),\n",
       " ('krzywda', 0.5886932611465454)]"
      ]
     },
     "execution_count": 16,
     "metadata": {},
     "output_type": "execute_result"
    }
   ],
   "source": [
    "word_vectors.similar_by_word('szkoda_majątkowa', 3)"
   ]
  },
  {
   "cell_type": "code",
   "execution_count": 17,
   "metadata": {},
   "outputs": [
    {
     "data": {
      "text/plain": [
       "[('wydarzenie', 0.45972561836242676),\n",
       " ('przeszłości,_negatywnie', 0.45947515964508057),\n",
       " ('nieoczekiwane_zerwanie', 0.45347657799720764)]"
      ]
     },
     "execution_count": 17,
     "metadata": {},
     "output_type": "execute_result"
    }
   ],
   "source": [
    "word_vectors.similar_by_word('nieszczęście', 3)"
   ]
  },
  {
   "cell_type": "code",
   "execution_count": 18,
   "metadata": {},
   "outputs": [
    {
     "data": {
      "text/plain": [
       "[('rozwód.', 0.739349365234375),\n",
       " ('orzeczenie_rozwodu', 0.6363464593887329),\n",
       " ('rozwiązanie_małżeństwa', 0.6302284002304077)]"
      ]
     },
     "execution_count": 18,
     "metadata": {},
     "output_type": "execute_result"
    }
   ],
   "source": [
    "word_vectors.similar_by_word('rozwód', 3)"
   ]
  },
  {
   "cell_type": "markdown",
   "metadata": {},
   "source": [
    "## Znajdź wypadkową operacji na słowach\n"
   ]
  },
  {
   "cell_type": "code",
   "execution_count": 22,
   "metadata": {},
   "outputs": [
    {
     "data": {
      "text/plain": [
       "[('trybunał', 0.5822564959526062),\n",
       " ('trybunał_konstytucyjny', 0.553675651550293),\n",
       " ('sad_najwyższy', 0.5372000336647034),\n",
       " ('trybunał_sprawiedliwości', 0.5236124992370605),\n",
       " ('sąd_najwyższy,', 0.5028815865516663)]"
      ]
     },
     "execution_count": 22,
     "metadata": {},
     "output_type": "execute_result"
    }
   ],
   "source": [
    "word_vectors.most_similar(\n",
    "    positive=['sąd_najwyższy', 'konstytucja'], negative=['kpc'], topn=5)"
   ]
  },
  {
   "cell_type": "code",
   "execution_count": 24,
   "metadata": {},
   "outputs": [
    {
     "data": {
      "text/plain": [
       "[('pasażerka', 0.5614506006240845),\n",
       " ('ciężarówka', 0.4767460227012634),\n",
       " ('kierująca', 0.4572647511959076),\n",
       " ('piesza', 0.4553679823875427),\n",
       " ('kierująca_pojazdem', 0.4551154375076294)]"
      ]
     },
     "execution_count": 24,
     "metadata": {},
     "output_type": "execute_result"
    }
   ],
   "source": [
    "word_vectors.most_similar(\n",
    "    positive=['pasażer', 'kobieta'], negative=['mężczyzna'], topn=5)"
   ]
  },
  {
   "cell_type": "code",
   "execution_count": 27,
   "metadata": {},
   "outputs": [
    {
     "data": {
      "text/plain": [
       "[('pojazd', 0.5381954908370972),\n",
       " ('samochód_marki', 0.5236991047859192),\n",
       " ('pojazd_marki', 0.5236037969589233),\n",
       " ('pastuch', 0.5007725954055786),\n",
       " ('samochód_ciężarowy', 0.49589812755584717)]"
      ]
     },
     "execution_count": 27,
     "metadata": {},
     "output_type": "execute_result"
    }
   ],
   "source": [
    "word_vectors.most_similar(\n",
    "    positive=['samochód', 'rzeka'], negative=['droga'], topn=5)"
   ]
  },
  {
   "cell_type": "markdown",
   "metadata": {},
   "source": [
    "## Korzystając z algorytmu t-SNE przedstaw projekcję wektorów następujących słów na płaszczyznę: "
   ]
  },
  {
   "cell_type": "code",
   "execution_count": 60,
   "metadata": {},
   "outputs": [],
   "source": [
    "# 'uszczerbek_na_zdrowiu' - is not in dictionary\n",
    "words = [\n",
    "    'szkoda', 'strata', 'uszczerbek', 'szkoda_majątkowa', 'krzywda',\n",
    "    'niesprawiedliwość', 'nieszczęście'\n",
    "]\n",
    "vectors= [word_vectors.get_vector(x) for x in words]\n",
    "transformed = TSNE().fit_transform(vectors)\n",
    "x, y = zip(*transformed)"
   ]
  },
  {
   "cell_type": "code",
   "execution_count": 62,
   "metadata": {},
   "outputs": [
    {
     "data": {
      "image/png": "[encoded data removed]",
      "text/plain": [
       "<Figure size 432x288 with 1 Axes>"
      ]
     },
     "metadata": {},
     "output_type": "display_data"
    }
   ],
   "source": [
    "plt.scatter(x,y)\n",
    "\n",
    "for i, txt in enumerate(words):\n",
    "    plt.annotate(txt, (x[i],y[i]))"
   ]
  }
 ],
 "metadata": {
  "kernelspec": {
   "display_name": "Python 3",
   "language": "python",
   "name": "python3"
  },
  "language_info": {
   "codemirror_mode": {
    "name": "ipython",
    "version": 3
   },
   "file_extension": ".py",
   "mimetype": "text/x-python",
   "name": "python",
   "nbconvert_exporter": "python",
   "pygments_lexer": "ipython3",
   "version": "3.6.3"
  }
 },
 "nbformat": 4,
 "nbformat_minor": 2
}
