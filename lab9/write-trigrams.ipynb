{
 "cells": [
  {
   "cell_type": "code",
   "execution_count": 1,
   "metadata": {},
   "outputs": [],
   "source": [
    "import json\n",
    "import os\n",
    "import re\n",
    "from collections import Counter\n",
    "import matplotlib.pyplot as plt\n",
    "import numpy as np\n",
    "from itertools import tee, chain, islice\n",
    "from math import log\n",
    "from itertools import takewhile\n",
    "from itertools import groupby\n",
    "from operator import itemgetter, methodcaller\n",
    "from text_processing import *\n",
    "from gensim.models.word2vec import LineSentence, Word2Vec\n",
    "from gensim.models.phrases import Phrases, Phraser"
   ]
  },
  {
   "cell_type": "code",
   "execution_count": 2,
   "metadata": {},
   "outputs": [],
   "source": [
    "bigram_saved = 'data/bigram_state.data'\n",
    "trigram_saved = 'data/trigram_state.data'\n",
    "word_vec_saved = 'data/word_2_vec.data'\n",
    "\n",
    "judgements = LineSentence('data/raw-text.data', limit=None)\n",
    "bigram = Phraser.load(bigram_saved)\n",
    "trigram = Phraser.load(trigram_saved)"
   ]
  },
  {
   "cell_type": "code",
   "execution_count": 3,
   "metadata": {},
   "outputs": [],
   "source": [
    "with open('data/trigrams.data','w') as outfile:\n",
    "    for x in trigram[bigram[judgements]]:\n",
    "        outfile.write(' '.join(x) + \"\\n\")"
   ]
  }
 ],
 "metadata": {
  "kernelspec": {
   "display_name": "Python 3",
   "language": "python",
   "name": "python3"
  },
  "language_info": {
   "codemirror_mode": {
    "name": "ipython",
    "version": 3
   },
   "file_extension": ".py",
   "mimetype": "text/x-python",
   "name": "python",
   "nbconvert_exporter": "python",
   "pygments_lexer": "ipython3",
   "version": "3.6.3"
  }
 },
 "nbformat": 4,
 "nbformat_minor": 2
}
