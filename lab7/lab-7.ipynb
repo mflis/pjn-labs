{
 "cells": [
  {
   "cell_type": "code",
   "execution_count": 1,
   "metadata": {},
   "outputs": [],
   "source": [
    "import WNQuery\n",
    "import os\n",
    "import sys\n",
    "from wnxmlconsole import write_synset\n",
    "from pprint import pformat, pprint\n",
    "import networkx as nx\n",
    "import matplotlib.pyplot as plt\n",
    "from operator import attrgetter, itemgetter\n",
    "from itertools import chain\n",
    "from collections import namedtuple\n",
    "import networkx as nx\n",
    "import matplotlib.pyplot as plt\n",
    "from matplotlib.patches import FancyArrowPatch, Circle\n",
    "import numpy as np\n",
    "from itertools import tee, islice"
   ]
  },
  {
   "cell_type": "code",
   "execution_count": 2,
   "metadata": {},
   "outputs": [
    {
     "name": "stderr",
     "output_type": "stream",
     "text": [
      "PoS\t\t#synsets\t#word senses\t#words\n",
      "Nouns\t\t132398\t\t176779\t\t134778\n",
      "Verbs\t\t27693\t\t38564\t\t19595\n",
      "Adjectives\t11256\t\t14035\t\t8006\n",
      "Adverbs\t\t0\t\t0\t\t0\n"
     ]
    }
   ],
   "source": [
    "wn = WNQuery.WNQuery(\"plwordnet-3.1-visdisc.xml\", open(os.devnull, \"w\"))\n",
    "wn.writeStats(sys.stderr)"
   ]
  },
  {
   "cell_type": "code",
   "execution_count": 3,
   "metadata": {},
   "outputs": [],
   "source": [
    "def get_synset(word, sense_number):\n",
    "    return wn.lookUpSense(word, sense_number, 'n')"
   ]
  },
  {
   "cell_type": "code",
   "execution_count": 4,
   "metadata": {},
   "outputs": [],
   "source": [
    "def window(it, size=3):\n",
    "    yield from zip(\n",
    "        *[islice(it, s, None) for s, it in enumerate(tee(it, size))])"
   ]
  },
  {
   "cell_type": "code",
   "execution_count": 5,
   "metadata": {},
   "outputs": [],
   "source": [
    "def synset_string(syns):\n",
    "    buff = []\n",
    "    for i in syns.synonyms:\n",
    "        buff.append(\"{0}\".format(i.literal))\n",
    "    return \"{{{0}}}  ({1})\".format(\", \".join(buff), syns.definition)"
   ]
  },
  {
   "cell_type": "code",
   "execution_count": 6,
   "metadata": {},
   "outputs": [],
   "source": [
    "def relevant_relation_links(synset, synsets):\n",
    "    synset_ids = list(map(attrgetter('wnid'), synsets))\n",
    "    filtered_relations = filter(lambda tup: tup[0] in synset_ids, synset.ilrs)\n",
    "    relation_links = map(lambda x: RelationLink(synset.wnid, *x),\n",
    "                         filtered_relations)\n",
    "    return list(relation_links)"
   ]
  },
  {
   "cell_type": "code",
   "execution_count": 7,
   "metadata": {},
   "outputs": [],
   "source": [
    "def get_synset(word, sense_number):\n",
    "    return wn.lookUpSense(word, sense_number, 'n')"
   ]
  },
  {
   "cell_type": "code",
   "execution_count": 8,
   "metadata": {},
   "outputs": [],
   "source": [
    "def realtion_graph(words):\n",
    "    synsets = list(\n",
    "        filter(None.__ne__, map(lambda tup: get_synset(*tup), words)))\n",
    "    edge_lists = map(lambda s: relevant_relation_links(s, synsets), synsets)\n",
    "    edges = list(set(chain.from_iterable(edge_lists)))\n",
    "    G = nx.DiGraph()\n",
    "    for e in edges:\n",
    "        G.add_edge(e.node_from, e.node_to, color=relation_color[e.relation])\n",
    "    pos = nx.layout.spring_layout(G)\n",
    "    return G, pos, synsets"
   ]
  },
  {
   "cell_type": "code",
   "execution_count": 9,
   "metadata": {},
   "outputs": [],
   "source": [
    "def draw_network(graph, pos, synsets, ax):\n",
    "    for n in graph:\n",
    "        c = Circle(pos[n], radius=0.2)\n",
    "        ax.add_patch(c)\n",
    "        graph.node[n]['patch'] = c\n",
    "        x, y = pos[n]\n",
    "        ax.text(x, y, n)\n",
    "    seen = {}\n",
    "    for (u, v, d) in graph.edges(data='color', default='purple'):\n",
    "        n1 = graph.node[u]['patch']\n",
    "        n2 = graph.node[v]['patch']\n",
    "        rad = 0.1\n",
    "        if (u, v) in seen:\n",
    "            rad = seen.get((u, v))\n",
    "            rad = (rad + np.sign(rad) * 0.1) * -1\n",
    "        alpha = 0.5\n",
    "        e = FancyArrowPatch(\n",
    "            n1.center,\n",
    "            n2.center,\n",
    "            patchA=n1,\n",
    "            patchB=n2,\n",
    "            arrowstyle='-|>',\n",
    "            connectionstyle='arc3,rad=%s' % rad,\n",
    "            mutation_scale=10.0,\n",
    "            lw=2,\n",
    "            alpha=alpha,\n",
    "            color=d)\n",
    "        seen[(u, v)] = rad\n",
    "        ax.add_patch(e)\n",
    "    return synsets"
   ]
  },
  {
   "cell_type": "code",
   "execution_count": 10,
   "metadata": {},
   "outputs": [],
   "source": [
    "def output(words):\n",
    "    ax = plt.gca()\n",
    "    legend = draw_network(*realtion_graph(words), ax)\n",
    "    ax.autoscale()\n",
    "    plt.axis('equal')\n",
    "    plt.axis('off')\n",
    "    return set(list(map(lambda s: (s.wnid, synset_string(s)), legend)))"
   ]
  },
  {
   "cell_type": "markdown",
   "metadata": {},
   "source": [
    "## Wszystkie znaczenia słowa szkoda i ich synonimy"
   ]
  },
  {
   "cell_type": "code",
   "execution_count": 11,
   "metadata": {},
   "outputs": [
    {
     "name": "stdout",
     "output_type": "stream",
     "text": [
      "PLWN-00003675-n  {strata:1, utrata:1, szkoda:2, uszczerbek:1}  ()\n",
      "synonimy:\n",
      "PLWN-00078375-n  {szwank:1, niekorzyść:1}  ()\n",
      "---------\n",
      "\n",
      "PLWN-00006533-n  {szkoda:1}  (brak danych)\n",
      "synonimy:\n",
      "---------\n",
      "\n"
     ]
    }
   ],
   "source": [
    "szkoda_synset = wn.lookUpLiteral('szkoda', 'n')\n",
    "for x in szkoda_synset:\n",
    "    id = x.wnid\n",
    "    write_synset(x, sys.stdout)\n",
    "    synonymIds = wn.lookUpRelation(id, 'n', 'bliskoznaczność')\n",
    "    print(\"synonimy:\")\n",
    "    for y in synonymIds:\n",
    "        write_synset(wn.lookUpID(y, 'n'), sys.stdout)\n",
    "    print(\"---------\\n\")"
   ]
  },
  {
   "cell_type": "markdown",
   "metadata": {},
   "source": [
    "### Hiperonimia `wypadek drogowy`"
   ]
  },
  {
   "cell_type": "code",
   "execution_count": 12,
   "metadata": {},
   "outputs": [
    {
     "data": {
      "image/png": "[encoded data removed]",
      "text/plain": [
       "<Figure size 432x288 with 1 Axes>"
      ]
     },
     "metadata": {},
     "output_type": "display_data"
    }
   ],
   "source": [
    "wypadek = wn.lookUpLiteral('wypadek drogowy', 'n')[0]\n",
    "hypernym_ids = wn.traceRelationD(wypadek.wnid, 'n', 'hypernym')\n",
    "nodes = map(lambda h: synset_string(wn.lookUpID(h[0], 'n')), hypernym_ids)\n",
    "node_list = list(nodes)\n",
    "\n",
    "G = nx.DiGraph()\n",
    "edges = window(node_list, 2)\n",
    "for e in edges:\n",
    "    G.add_edge(e[0], e[1])\n",
    "pos = nx.layout.spring_layout(G)\n",
    "nx.draw(G, with_labels=True)"
   ]
  },
  {
   "cell_type": "markdown",
   "metadata": {},
   "source": [
    "## Bezpośrednie hiponimy `wypadek_1`"
   ]
  },
  {
   "cell_type": "code",
   "execution_count": 13,
   "metadata": {},
   "outputs": [
    {
     "name": "stdout",
     "output_type": "stream",
     "text": [
      "PLWN-00003981-n  {wypadek:2, incydent:1}  ()\n"
     ]
    }
   ],
   "source": [
    "wypadek1 = wn.lookUpLiteral('wypadek', 'n')[0]\n",
    "write_synset(wypadek1, sys.stdout)"
   ]
  },
  {
   "cell_type": "code",
   "execution_count": 14,
   "metadata": {},
   "outputs": [
    {
     "name": "stdout",
     "output_type": "stream",
     "text": [
      "PLWN-00020080-n  {potknięcie:2}  ()\n",
      "PLWN-00034820-n  {utonięcie:6}  ()\n"
     ]
    }
   ],
   "source": [
    "wypadek_hiponyms = wn.traceRelationD(wypadek1.wnid, 'n', 'hyponym')\n",
    "\n",
    "for x in filter(lambda tup: tup[1] == 1, wypadek_hiponyms):\n",
    "    synset = wn.lookUpID(x[0], 'n')\n",
    "    write_synset(synset, sys.stdout)"
   ]
  },
  {
   "cell_type": "markdown",
   "metadata": {},
   "source": [
    "## hiponimy 2 rzędu dla `wypadek_1`"
   ]
  },
  {
   "cell_type": "code",
   "execution_count": 15,
   "metadata": {},
   "outputs": [
    {
     "name": "stdout",
     "output_type": "stream",
     "text": [
      "PLWN-00046784-n  {wypadek przy pracy:1}  ()\n"
     ]
    }
   ],
   "source": [
    "for x in filter(lambda tup: tup[1] == 2, wypadek_hiponyms):\n",
    "    synset = wn.lookUpID(x[0], 'n')\n",
    "    write_synset(synset, sys.stdout)"
   ]
  },
  {
   "cell_type": "code",
   "execution_count": 16,
   "metadata": {},
   "outputs": [],
   "source": [
    "RelationLink = namedtuple('RelationLink', ['node_from', 'node_to', 'relation'])\n",
    "relation_color = {'hiponimia': 'r', 'hyponym': 'r', 'hypernym': 'g'}\n",
    "\n",
    "word_set1 = [('szkoda', 2), ('strata', 1), ('uszczerbek', 1),\n",
    "             ('szkoda majątkowa', 1), ('uszczerbek na zdrowiu', 1),\n",
    "             ('krzywda', 1), ('niesprawiedliwość', 1), ('nieszczęście', 2)]\n",
    "word_set2 = [('wypadek', 1), ('wypadek komunikacyjny', 1), ('kolizja', 2),\n",
    "             ('zderzenie', 2), ('kolizja drogowa', 1), ('bezkolizyjny', 2),\n",
    "             ('katastrofa budowlana', 1), ('wypadek drogowy', 1)]"
   ]
  },
  {
   "cell_type": "markdown",
   "metadata": {},
   "source": [
    "### Grafy relacji semantycznych"
   ]
  },
  {
   "cell_type": "code",
   "execution_count": 17,
   "metadata": {},
   "outputs": [
    {
     "data": {
      "text/plain": [
       "{('PLWN-00001439-n', '{krzywda, niesprawiedliwość}  (brak danych)'),\n",
       " ('PLWN-00003675-n', '{strata, utrata, szkoda, uszczerbek}  ()'),\n",
       " ('PLWN-00005640-n', '{nieszczęście, niedola}  ()'),\n",
       " ('PLWN-00046769-n', '{uszczerbek na zdrowiu}  ()'),\n",
       " ('PLWN-00472552-n', '{szkoda majątkowa}  ()')}"
      ]
     },
     "execution_count": 17,
     "metadata": {},
     "output_type": "execute_result"
    },
    {
     "data": {
      "image/png": "[encoded data removed]",
      "text/plain": [
       "<Figure size 432x288 with 1 Axes>"
      ]
     },
     "metadata": {},
     "output_type": "display_data"
    }
   ],
   "source": [
    "%matplotlib inline\n",
    "output(word_set1)"
   ]
  },
  {
   "cell_type": "code",
   "execution_count": 18,
   "metadata": {},
   "outputs": [
    {
     "data": {
      "text/plain": [
       "{('PLWN-00001284-n', '{zderzenie, kraksa}  ()'),\n",
       " ('PLWN-00003982-n', '{wypadek}  ()'),\n",
       " ('PLWN-00006486-n', '{kolizja}  ()'),\n",
       " ('PLWN-00410901-n', '{wypadek komunikacyjny}  ()'),\n",
       " ('PLWN-00410902-n', '{wypadek drogowy}  ()'),\n",
       " ('PLWN-00411618-n', '{katastrofa budowlana}  ()'),\n",
       " ('PLWN-00441365-n', '{kolizja drogowa}  ()')}"
      ]
     },
     "execution_count": 18,
     "metadata": {},
     "output_type": "execute_result"
    },
    {
     "data": {
      "image/png": "[encoded data removed]",
      "text/plain": [
       "<Figure size 432x288 with 1 Axes>"
      ]
     },
     "metadata": {},
     "output_type": "display_data"
    }
   ],
   "source": [
    "%matplotlib inline\n",
    "output(word_set2)"
   ]
  },
  {
   "cell_type": "markdown",
   "metadata": {},
   "source": [
    "##  Miara pokrewieństwa semantycznego Leacocka-Chodorowa \n",
    "\n"
   ]
  },
  {
   "cell_type": "code",
   "execution_count": 19,
   "metadata": {},
   "outputs": [
    {
     "data": {
      "text/plain": [
       "1.2430380486862944"
      ]
     },
     "execution_count": 19,
     "metadata": {},
     "output_type": "execute_result"
    }
   ],
   "source": [
    "szkoda_id = get_synset('szkoda', 2).wnid\n",
    "wypadek_id = get_synset('wypadek', 1).wnid\n",
    "\n",
    "wn.simLeaCho(szkoda_id, wypadek_id, 'n', 'hypernym', True)"
   ]
  },
  {
   "cell_type": "code",
   "execution_count": 20,
   "metadata": {},
   "outputs": [
    {
     "data": {
      "text/plain": [
       "1.0669467896306133"
      ]
     },
     "execution_count": 20,
     "metadata": {},
     "output_type": "execute_result"
    }
   ],
   "source": [
    "kolizja_id = get_synset('kolizja', 2).wnid\n",
    "szkoda_maj_id = get_synset('szkoda majątkowa', 1).wnid\n",
    "\n",
    "wn.simLeaCho(kolizja_id, szkoda_maj_id, 'n', 'hypernym', True)"
   ]
  },
  {
   "cell_type": "code",
   "execution_count": 21,
   "metadata": {},
   "outputs": [
    {
     "data": {
      "text/plain": [
       "0.8908555305749319"
      ]
     },
     "execution_count": 21,
     "metadata": {},
     "output_type": "execute_result"
    }
   ],
   "source": [
    "niesczescie_id = get_synset('nieszczęście', 2).wnid\n",
    "kat_bud_id = get_synset('katastrofa budowlana', 1).wnid\n",
    "\n",
    "wn.simLeaCho(niesczescie_id, kat_bud_id, 'n', 'hypernym', True)"
   ]
  }
 ],
 "metadata": {
  "kernelspec": {
   "display_name": "Python 3",
   "language": "python",
   "name": "python3"
  },
  "language_info": {
   "codemirror_mode": {
    "name": "ipython",
    "version": 3
   },
   "file_extension": ".py",
   "mimetype": "text/x-python",
   "name": "python",
   "nbconvert_exporter": "python",
   "pygments_lexer": "ipython3",
   "version": "3.6.3"
  }
 },
 "nbformat": 4,
 "nbformat_minor": 2
}
