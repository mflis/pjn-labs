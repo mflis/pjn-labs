{
 "cells": [
  {
   "cell_type": "code",
   "execution_count": 29,
   "metadata": {},
   "outputs": [],
   "source": [
    "import json\n",
    "import pandas\n",
    "import os\n",
    "import re\n",
    "from collections import Counter\n",
    "import matplotlib.pyplot as plt\n",
    "import numpy as np\n",
    "from  itertools import tee, chain, islice\n",
    "from math import log\n",
    "from operator import itemgetter\n",
    "from itertools import takewhile\n",
    "import requests\n",
    "from operator import itemgetter "
   ]
  },
  {
   "cell_type": "code",
   "execution_count": 30,
   "metadata": {},
   "outputs": [],
   "source": [
    "def window(it, size=2):\n",
    "    yield from zip(*[islice(it, s, None) for s, it in enumerate(tee(it, size))])"
   ]
  },
  {
   "cell_type": "code",
   "execution_count": 31,
   "metadata": {},
   "outputs": [],
   "source": [
    "def read_tagging_line(line):\n",
    "    _id, tag_line = line.split(';')\n",
    "    tags = tag_line.split(' ')\n",
    "    non_empty_tags =  filter(lambda s: s,tags)\n",
    "    return _id, list(non_empty_tags)\n",
    "    \n",
    "def read_tagging():\n",
    "   return map(read_tagging_line, open('tagging-2018','r'))\n",
    "\n",
    "def get_class(unigram):\n",
    "    return unigram.split(':')[1]\n",
    "\n",
    "def filter_bigram_by_class(bigram):\n",
    "    return get_class(bigram[0]) in ['subst'] and get_class(bigram[1]) in ['subst','adj']"
   ]
  },
  {
   "cell_type": "code",
   "execution_count": 32,
   "metadata": {},
   "outputs": [],
   "source": [
    "lines = map( itemgetter(1), read_tagging())\n",
    "unigrams_it1, unigrams_it2 = tee(lines)"
   ]
  },
  {
   "cell_type": "code",
   "execution_count": 33,
   "metadata": {},
   "outputs": [],
   "source": [
    "unigrams =  chain.from_iterable(unigrams_it1)\n",
    "bigrams = chain.from_iterable( map( lambda it: window(it,2),unigrams_it2))"
   ]
  },
  {
   "cell_type": "code",
   "execution_count": 34,
   "metadata": {},
   "outputs": [],
   "source": [
    "counted_unigrams= Counter(unigrams)\n",
    "counted_bigrams= Counter(bigrams)\n",
    "\n",
    "unigram_count = sum(counted_unigrams.values())\n",
    "bigram_count =  sum(counted_bigrams.values())"
   ]
  },
  {
   "cell_type": "markdown",
   "metadata": {},
   "source": [
    "# 10 najpopularniejszych bigramów w 2018"
   ]
  },
  {
   "cell_type": "code",
   "execution_count": 35,
   "metadata": {},
   "outputs": [
    {
     "data": {
      "text/plain": [
       "[(('z:prep', 'dzień:subst'), 24668),\n",
       " (('artykuł:brev', 'koło:brev'), 14250),\n",
       " (('w:prep', 'dzień:subst'), 10874),\n",
       " (('w:prep', 'sprawa:subst'), 10384),\n",
       " (('na:prep', 'podstawa:subst'), 9424),\n",
       " (('z:prep', 'artykuł:brev'), 8892),\n",
       " (('koło:brev', 'pan:brev'), 8854),\n",
       " (('w:prep', 'ten:adj'), 8302),\n",
       " (('kwota:subst', 'złoty:brev'), 7886),\n",
       " (('ubezpieczenie:subst', 'społeczny:adj'), 7780)]"
      ]
     },
     "execution_count": 35,
     "metadata": {},
     "output_type": "execute_result"
    }
   ],
   "source": [
    "counted_bigrams.most_common(10)"
   ]
  },
  {
   "cell_type": "markdown",
   "metadata": {},
   "source": [
    "# 10 najpopularniejszych unigramów w 2018"
   ]
  },
  {
   "cell_type": "code",
   "execution_count": 36,
   "metadata": {},
   "outputs": [
    {
     "data": {
      "text/plain": [
       "[('w:prep', 229406),\n",
       " ('z:prep', 143952),\n",
       " ('na:prep', 85786),\n",
       " ('i:conj', 78166),\n",
       " ('do:prep', 75758),\n",
       " ('nie:qub', 59842),\n",
       " ('dzień:subst', 52958),\n",
       " ('on:ppron3', 51864),\n",
       " ('o:prep', 49760),\n",
       " ('rok:brev', 49266)]"
      ]
     },
     "execution_count": 36,
     "metadata": {},
     "output_type": "execute_result"
    }
   ],
   "source": [
    "counted_unigrams.most_common(10) "
   ]
  },
  {
   "cell_type": "code",
   "execution_count": 37,
   "metadata": {},
   "outputs": [],
   "source": [
    "from  python_llr.llr import llr_2x2\n",
    "def loglikelihood(bigram):\n",
    "   k11 = counted_bigrams[bigram] \n",
    "   k12 = counted_unigrams[bigram[0]] - counted_bigrams[bigram]\n",
    "   k21 = counted_unigrams[bigram[1]] - counted_bigrams[bigram]\n",
    "   k22 = bigram_count - (counted_unigrams[bigram[0]] + counted_unigrams[bigram[1]] - counted_bigrams[bigram])\n",
    "   return llr_2x2(k11,k12,k21,k22) "
   ]
  },
  {
   "cell_type": "markdown",
   "metadata": {},
   "source": [
    "# top 30 bigrams by loglikelihood"
   ]
  },
  {
   "cell_type": "code",
   "execution_count": 38,
   "metadata": {
    "scrolled": true
   },
   "outputs": [
    {
     "data": {
      "text/plain": [
       "[(('ubezpieczenie:subst', 'społeczny:adj'), 90171.24090331813),\n",
       " (('sąd:subst', 'rejonowy:adj'), 66100.29170284118),\n",
       " (('sąd:subst', 'okręgowy:adj'), 64060.64552685816),\n",
       " (('organ:subst', 'rentowy:adj'), 51036.95560479551),\n",
       " (('zeznanie:subst', 'świadek:subst'), 41783.675160848186),\n",
       " (('materiał:subst', 'dowodowy:adj'), 38865.34503389546),\n",
       " (('dzień:subst', 'styczeń:subst'), 35115.35953170154),\n",
       " (('sąd:subst', 'wysoki:adj'), 33954.72247091122),\n",
       " (('skarb:subst', 'państwo:subst'), 31911.598054927555),\n",
       " (('dzień:subst', 'grudzień:subst'), 26934.586194734555),\n",
       " (('dzień:subst', 'październik:subst'), 26426.55840735021),\n",
       " (('stan:subst', 'faktyczny:adj'), 26180.792122840125),\n",
       " (('płyta:subst', 'cd:subst'), 24264.958803717625),\n",
       " (('koszt:subst', 'proces:subst'), 22435.99068148405),\n",
       " (('działalność:subst', 'gospodarczy:adj'), 21883.471563419924),\n",
       " (('płatnik:subst', 'składka:subst'), 21649.62450915556),\n",
       " (('dzień:subst', 'listopad:subst'), 21634.893700654153),\n",
       " (('dzień:subst', 'lipiec:subst'), 21527.707276916713),\n",
       " (('dzień:subst', 'czerwiec:subst'), 21480.044748111744),\n",
       " (('rzeczpospolita:subst', 'polski:adj'), 21279.811067935465),\n",
       " (('dzień:subst', 'marzec:subst'), 20997.267296698876),\n",
       " (('dzień:subst', 'luty:adj'), 20898.66041730647),\n",
       " (('wyrok:subst', 'sąd:subst'), 20871.989259984228),\n",
       " (('zakład:subst', 'ubezpieczenie:subst'), 20709.27603295268),\n",
       " (('podróż:subst', 'służbowy:adj'), 20163.31924944454),\n",
       " (('dzień:subst', 'maj:subst'), 19931.715106918942),\n",
       " (('zastępstwo:subst', 'procesowy:adj'), 18987.072856986168),\n",
       " (('dzień:subst', 'wrzesień:subst'), 18796.430405966938),\n",
       " (('opinia:subst', 'biegły:subst'), 18700.198980305053),\n",
       " (('dzień:subst', 'kwiecień:subst'), 18644.09064535238)]"
      ]
     },
     "execution_count": 38,
     "metadata": {},
     "output_type": "execute_result"
    }
   ],
   "source": [
    "filtered =list(filter(filter_bigram_by_class, counted_bigrams.keys()))\n",
    "log_like_vals =map(lambda bigram: (bigram, loglikelihood(bigram)) , filtered)\n",
    "list(sorted(log_like_vals,key = itemgetter(1),reverse=True))[:30]"
   ]
  }
 ],
 "metadata": {
  "kernelspec": {
   "display_name": "Python 3",
   "language": "python",
   "name": "python3"
  }
 },
 "nbformat": 4,
 "nbformat_minor": 2
}
