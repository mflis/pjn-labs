{
 "cells": [
  {
   "cell_type": "code",
   "execution_count": 1,
   "metadata": {
    "scrolled": true
   },
   "outputs": [],
   "source": [
    "import json\n",
    "import pandas\n",
    "import os\n",
    "import re\n",
    "from collections import Counter\n",
    "import matplotlib.pyplot as plt\n",
    "import numpy as np\n",
    "from  itertools import tee, chain, islice\n",
    "from math import log\n",
    "from operator import itemgetter\n",
    "from itertools import takewhile\n",
    "import requests"
   ]
  },
  {
   "cell_type": "code",
   "execution_count": 2,
   "metadata": {},
   "outputs": [],
   "source": [
    "root_dir = '/home/marcin/Desktop/SemestrVIII/PJN'\n",
    "year = \"2018\"\n",
    "json_data_dir = f\"{root_dir}/data/json\"\n",
    "\n",
    "\n",
    "def extract_file_number(filename):\n",
    "    return int(filename.split('-')[1].split('.')[0])\n",
    "\n",
    "def is_2017_in_file(filename):\n",
    "    return 2716 <= extract_file_number(filename) <= 3163 \n",
    "\n",
    "def is_2018_in_file(filename):\n",
    "    return 3163 <= extract_file_number(filename) <=  3173"
   ]
  },
  {
   "cell_type": "code",
   "execution_count": 3,
   "metadata": {},
   "outputs": [],
   "source": [
    "def window(it, size=2):\n",
    "    yield from zip(*[islice(it, s, None) for s, it in enumerate(tee(it, size))])"
   ]
  },
  {
   "cell_type": "code",
   "execution_count": 4,
   "metadata": {},
   "outputs": [],
   "source": [
    "def clean_text(line):\n",
    "    _id, text = line\n",
    "    notags = re.sub(r\"<[^>]*>\", \" \", text)\n",
    "    nobreaks =  re.sub(r\"-\\n\", \" \", notags)\n",
    "    nodigits =  re.sub(r\"\\d+\", \" \", nobreaks)\n",
    "    return _id, re.sub(r\"\\b[XVILMC]+\\b\", \"\", nodigits)"
   ]
  },
  {
   "cell_type": "code",
   "execution_count": 5,
   "metadata": {},
   "outputs": [],
   "source": [
    "def judgement_texts(filename):\n",
    "    with open(os.path.join(json_data_dir, filename), 'r') as jsonFile:\n",
    "        judgements = json.load(jsonFile)['items'] \n",
    "    year_filtered = filter(lambda item: year in item['judgmentDate'], judgements)\n",
    "    yield from map(lambda item: (item['id'],item['textContent']), year_filtered)"
   ]
  },
  {
   "cell_type": "code",
   "execution_count": 6,
   "metadata": {},
   "outputs": [],
   "source": [
    "def process_response(line):\n",
    "    word, tags = line.split('\\t')[1:3]\n",
    "    grammatical_class = tags.split(':')[0]\n",
    "    return \"{}:{}\".format(word.lower().replace(' ','_'), grammatical_class)"
   ]
  },
  {
   "cell_type": "code",
   "execution_count": 7,
   "metadata": {},
   "outputs": [],
   "source": [
    "def tag_text(judgement):\n",
    "    _id,text = judgement \n",
    "    r = requests.post(\"http://localhost:9200\", data=text.encode('utf-8'))\n",
    "    lines= r.content.decode('utf-8').split('\\n') \n",
    "    relevant = filter(lambda line: line.startswith('\\t'),lines)\n",
    "    tagged =  map(process_response, relevant)\n",
    "    words =  filter(lambda x: re.match(\"\\w+\",x[0]),tagged) \n",
    "    return _id, words"
   ]
  },
  {
   "cell_type": "code",
   "execution_count": 8,
   "metadata": {},
   "outputs": [],
   "source": [
    "def write_tagging(tagging,fileout):\n",
    "   with open(fileout,'w') as file:\n",
    "        for _id, tags in tagging:\n",
    "            file.write(\"{}; \".format(_id))\n",
    "            file.write(' '.join(x.replace(' ','_') for x in tags))\n",
    "            file.write(' '.join(x for x in tags))\n",
    "            file.write(\"\\n\")\n",
    "            "
   ]
  },
  {
   "cell_type": "code",
   "execution_count": 9,
   "metadata": {},
   "outputs": [],
   "source": [
    "json_files = os.listdir(json_data_dir)\n",
    "judgements_files= filter(is_2018_in_file, json_files)\n",
    "texts =  chain.from_iterable(map( judgement_texts, judgements_files))\n",
    "cleaned_text = map(clean_text,texts)"
   ]
  },
  {
   "cell_type": "code",
   "execution_count": null,
   "metadata": {},
   "outputs": [],
   "source": [
    "tagging_unigrams = map(tag_text, cleaned_text)\n",
    "write_tagging(tagging_unigrams,'tagging-2017')"
   ]
  }
 ],
 "metadata": {
  "kernelspec": {
   "display_name": "Python 3",
   "language": "python",
   "name": "python3"
  },
  "language_info": {
   "codemirror_mode": {
    "name": "ipython",
    "version": 3
   },
   "file_extension": ".py",
   "mimetype": "text/x-python",
   "name": "python",
   "nbconvert_exporter": "python",
   "pygments_lexer": "ipython3",
   "version": "3.6.3"
  }
 },
 "nbformat": 4,
 "nbformat_minor": 2
}
