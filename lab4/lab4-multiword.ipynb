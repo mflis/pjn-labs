{
 "cells": [
  {
   "cell_type": "code",
   "execution_count": 37,
   "metadata": {
    "scrolled": true
   },
   "outputs": [],
   "source": [
    "import json\n",
    "import pandas\n",
    "import os\n",
    "import re\n",
    "from collections import Counter\n",
    "import matplotlib.pyplot as plt\n",
    "import numpy as np\n",
    "from  itertools import tee, chain, islice\n",
    "from math import log\n",
    "from operator import itemgetter\n",
    "from itertools import takewhile"
   ]
  },
  {
   "cell_type": "code",
   "execution_count": 38,
   "metadata": {},
   "outputs": [],
   "source": [
    "root_dir = '/home/marcin/Desktop/SemestrVIII/PJN'\n",
    "year = \"2018\"\n",
    "json_data_dir = f\"{root_dir}/data/json\"\n",
    "filesInYearPattern = 'judgments-(316[3-9]|317\\d)\\.json'"
   ]
  },
  {
   "cell_type": "code",
   "execution_count": 39,
   "metadata": {},
   "outputs": [],
   "source": [
    "def window(it, size=2):\n",
    "    yield from zip(*[islice(it, s, None) for s, it in enumerate(tee(it, size))])"
   ]
  },
  {
   "cell_type": "code",
   "execution_count": 40,
   "metadata": {},
   "outputs": [],
   "source": [
    "def unigrams(line):\n",
    "    notags = re.sub(r\"<[^>]*>\", \" \", line)\n",
    "    nobreaks =  re.sub(r\"-\\n\", \" \", notags)\n",
    "    nodigits =  re.sub(r\"\\d+\", \" \", nobreaks)\n",
    "    noroman =  re.sub(r\"\\b[XVILMC]+\\b\", \"\", nodigits)\n",
    "    lower =   noroman.lower()\n",
    "    return  re.findall(r'\\w+', lower)"
   ]
  },
  {
   "cell_type": "code",
   "execution_count": 41,
   "metadata": {},
   "outputs": [],
   "source": [
    "def make_bigrams(unigrams):\n",
    "    bigram_tuples = window(unigrams,2)\n",
    "    bigrams = map(lambda tuple: f\"{tuple[0]} {tuple[1]}\", bigram_tuples) \n",
    "    return bigrams"
   ]
  },
  {
   "cell_type": "code",
   "execution_count": 42,
   "metadata": {},
   "outputs": [],
   "source": [
    "def judgement_texts(filename):\n",
    "    with open(os.path.join(json_data_dir, filename), 'r') as jsonFile:\n",
    "        judgements = json.load(jsonFile)['items'] \n",
    "    year_filtered = filter(lambda item: year in item['judgmentDate'], judgements)\n",
    "    yield from map(lambda item: item['textContent'], year_filtered)"
   ]
  },
  {
   "cell_type": "code",
   "execution_count": 43,
   "metadata": {},
   "outputs": [],
   "source": [
    "def make_bigrams(unigrams):\n",
    "    bigram_tuples = window(unigrams,2)\n",
    "    bigrams = map(lambda tuple: f\"{tuple[0]} {tuple[1]}\", bigram_tuples) \n",
    "    return bigrams"
   ]
  },
  {
   "cell_type": "code",
   "execution_count": 44,
   "metadata": {},
   "outputs": [],
   "source": [
    "json_files = os.listdir(json_data_dir)\n",
    "judgements_files= filter(lambda name: re.match(filesInYearPattern, name), json_files)\n",
    "texts =  chain.from_iterable(map( judgement_texts, judgements_files))\n",
    "unigrams_it1, unigrams_it2 =tee(map(unigrams,texts))\n",
    "unigrams =  chain.from_iterable(unigrams_it1)\n",
    "bigrams = chain.from_iterable(map( lambda it: window(it,2),unigrams_it2))\n",
    "   "
   ]
  },
  {
   "cell_type": "code",
   "execution_count": 45,
   "metadata": {},
   "outputs": [],
   "source": [
    "counted_unigrams= Counter(unigrams)\n",
    "counted_bigrams= Counter(bigrams)\n",
    "\n",
    "unigram_count = sum(counted_unigrams.values())\n",
    "bigram_count =  sum(counted_bigrams.values())"
   ]
  },
  {
   "cell_type": "markdown",
   "metadata": {},
   "source": [
    "# 10 najpopularniejszych bigramów w 2018"
   ]
  },
  {
   "cell_type": "code",
   "execution_count": 46,
   "metadata": {},
   "outputs": [
    {
     "data": {
      "text/plain": [
       "[(('z', 'dnia'), 11869),\n",
       " (('art', 'k'), 7184),\n",
       " (('w', 'dniu'), 5208),\n",
       " (('na', 'podstawie'), 4699),\n",
       " (('k', 'p'), 4686),\n",
       " (('w', 'sprawie'), 4657),\n",
       " (('z', 'art'), 4453),\n",
       " (('w', 'tym'), 4196),\n",
       " (('art', 'ust'), 3575),\n",
       " (('zgodnie', 'z'), 3378)]"
      ]
     },
     "execution_count": 46,
     "metadata": {},
     "output_type": "execute_result"
    }
   ],
   "source": [
    "counted_bigrams.most_common(10)"
   ]
  },
  {
   "cell_type": "markdown",
   "metadata": {},
   "source": [
    "# 10 najpopularniejszych unigramów w 2018"
   ]
  },
  {
   "cell_type": "code",
   "execution_count": 47,
   "metadata": {},
   "outputs": [
    {
     "data": {
      "text/plain": [
       "[('w', 118896),\n",
       " ('z', 69578),\n",
       " ('na', 42894),\n",
       " ('i', 39428),\n",
       " ('do', 37881),\n",
       " ('nie', 30528),\n",
       " ('o', 29826),\n",
       " ('k', 28916),\n",
       " ('r', 27356),\n",
       " ('że', 22479)]"
      ]
     },
     "execution_count": 47,
     "metadata": {},
     "output_type": "execute_result"
    }
   ],
   "source": [
    "counted_unigrams.most_common(10) "
   ]
  },
  {
   "cell_type": "code",
   "execution_count": 48,
   "metadata": {},
   "outputs": [],
   "source": [
    "def pmi(bigram):\n",
    "    prob_word_1 = counted_unigrams[bigram[0]] / unigram_count\n",
    "    prob_word_2 = counted_unigrams[bigram[1]] / unigram_count\n",
    "    prob_bigram = counted_bigrams[bigram] /     bigram_count \n",
    "    return log( prob_bigram / (prob_word_1 * prob_word_2))    "
   ]
  },
  {
   "cell_type": "code",
   "execution_count": 49,
   "metadata": {},
   "outputs": [],
   "source": [
    "def top_pmi(min_frequency = 1):\n",
    "    frequent_bigrams = takewhile(lambda x: x[1] > min_frequency, counted_bigrams.most_common() )\n",
    "    pmi_vals = map(lambda x: (x[0],pmi(x[0])),frequent_bigrams)\n",
    "    return list(sorted(pmi_vals,key = itemgetter(1),reverse=True))"
   ]
  },
  {
   "cell_type": "markdown",
   "metadata": {},
   "source": [
    "# top 30 bigrams by PMI"
   ]
  },
  {
   "cell_type": "code",
   "execution_count": 50,
   "metadata": {},
   "outputs": [
    {
     "data": {
      "text/plain": [
       "[(('samorządowej', 'jednostce'), 9.594232074185577),\n",
       " (('trybunału', 'konstytucyjnego'), 9.589584116568494),\n",
       " (('zdrowotnej', 'finansowanych'), 9.518455006864993),\n",
       " (('księgę', 'wieczystą'), 9.517003377571543),\n",
       " (('sfery', 'budżetowej'), 9.410511276635498),\n",
       " (('doznaną', 'krzywdę'), 9.405390343875302),\n",
       " (('uzasadnieniem', 'doręczyć'), 9.36187456907651),\n",
       " (('stawek', 'dziennych'), 9.240075327075525),\n",
       " (('grach', 'hazardowych'), 9.22696819871096),\n",
       " (('gospodarstwa', 'rolnego'), 9.194750897930989),\n",
       " (('jednostce', 'sfery'), 9.122246283735851),\n",
       " (('obszaru', 'ograniczonego'), 9.098896619410258),\n",
       " (('gospodarstwie', 'rolnym'), 9.026640589888276),\n",
       " (('ograniczonego', 'użytkowania'), 8.980475404382185),\n",
       " (('służby', 'wojskowej'), 8.964687070754378),\n",
       " (('szczecin', 'centrum'), 8.927170559858226),\n",
       " (('godzinach', 'nadliczbowych'), 8.923842599384564),\n",
       " (('tekst', 'jednolity'), 8.918322125917946),\n",
       " (('utraciła', 'zdolność'), 8.858359840264844),\n",
       " (('doświadczenia', 'życiowego'), 8.836677207577926),\n",
       " (('st', 'sekr'), 8.810399743216761),\n",
       " (('kapitału', 'początkowego'), 8.782759666276172),\n",
       " (('spr', 'sędziowie'), 8.749008853289997),\n",
       " (('materiałem', 'dowodowym'), 8.73833555796057),\n",
       " (('pracownikowi', 'zatrudnionemu'), 8.71140476054794),\n",
       " (('lekarza', 'orzecznika'), 8.704225756432974),\n",
       " (('komisji', 'lekarskiej'), 8.702848155994692),\n",
       " (('punktu', 'widzenia'), 8.698093443375578),\n",
       " (('emerytalnemu', 'rentowym'), 8.685354347726939),\n",
       " (('materiale', 'dowodowym'), 8.672718381905351)]"
      ]
     },
     "execution_count": 50,
     "metadata": {},
     "output_type": "execute_result"
    }
   ],
   "source": [
    "top_pmi(100)[:30]"
   ]
  },
  {
   "cell_type": "code",
   "execution_count": 51,
   "metadata": {},
   "outputs": [
    {
     "data": {
      "text/plain": [
       "[(('ogórków', 'rozpaletyzowanych'), 13.985007455438776),\n",
       " (('delikatesów', 'mięsnych'), 13.985007455438776),\n",
       " (('czerwona', 'kropka'), 13.985007455438776),\n",
       " (('podłogach', 'grzyb'), 13.985007455438776),\n",
       " (('poplamione', 'pozaciągane'), 13.985007455438776),\n",
       " (('pozaciągane', 'wymięte'), 13.985007455438776),\n",
       " (('odczyn', 'opłucnowy'), 13.985007455438776),\n",
       " (('zaspokajających', 'najpotrzebniejsze'), 13.985007455438776),\n",
       " (('kantak', 'rekowska'), 13.985007455438776),\n",
       " (('zasypowych', 'zadaszeń'), 13.985007455438776),\n",
       " (('przenośnikiem', 'taśmowym'), 13.985007455438776),\n",
       " (('geologiczno', 'geotechnicznymi'), 13.985007455438776),\n",
       " (('ulotkami', 'reklamowymi'), 13.985007455438776),\n",
       " (('catering', 'gesellschaftmbh'), 13.985007455438776),\n",
       " (('jakiemuś', 'sezonowi'), 13.985007455438776),\n",
       " (('taneczno', 'rytmicznych'), 13.985007455438776),\n",
       " (('oferujące', 'trampoliny'), 13.985007455438776),\n",
       " (('bon', 'aktywacyjny'), 13.985007455438776),\n",
       " (('odblokowania', 'immobilizera'), 13.985007455438776),\n",
       " (('krzesełkiem', 'prysznicowym'), 13.985007455438776),\n",
       " (('etniczne', 'wyznanie'), 13.985007455438776),\n",
       " (('przewidywalności', 'czytelności'), 13.985007455438776),\n",
       " (('kanapa', 'rogowa'), 13.985007455438776),\n",
       " (('sokownik', 'parowy'), 13.985007455438776),\n",
       " (('kołdra', 'wełniana'), 13.985007455438776),\n",
       " (('wieża', 'stereo'), 13.985007455438776),\n",
       " (('szafa', 'dwudrzwiowa'), 13.985007455438776),\n",
       " (('wędzarnia', 'kamienna'), 13.985007455438776),\n",
       " (('prekursory', 'narkotykowe'), 13.985007455438776),\n",
       " (('reakcyjna', 'podgrzana'), 13.985007455438776)]"
      ]
     },
     "execution_count": 51,
     "metadata": {},
     "output_type": "execute_result"
    }
   ],
   "source": [
    "top_pmi(1)[:30]"
   ]
  },
  {
   "cell_type": "code",
   "execution_count": 52,
   "metadata": {},
   "outputs": [],
   "source": [
    "from  python_llr.llr import llr_2x2\n",
    "def loglikelihood(bigram):\n",
    "   k11 = counted_bigrams[bigram] \n",
    "   k12 = counted_unigrams[bigram[0]] - counted_bigrams[bigram]\n",
    "   k21 = counted_unigrams[bigram[0]] - counted_bigrams[bigram]\n",
    "   k22 = bigram_count - (counted_unigrams[bigram[0]] + counted_unigrams[bigram[1]] - counted_bigrams[bigram])\n",
    "   return llr_2x2(k11,k12,k21,k22) "
   ]
  },
  {
   "cell_type": "markdown",
   "metadata": {},
   "source": [
    "# top 30 bigrams by loglikelihood"
   ]
  },
  {
   "cell_type": "code",
   "execution_count": 53,
   "metadata": {},
   "outputs": [
    {
     "data": {
      "text/plain": [
       "[(('art', 'k'), 48150.98838423297),\n",
       " (('zgodnie', 'z'), 46090.114974131175),\n",
       " (('ubezpieczeń', 'społecznych'), 38436.001355060034),\n",
       " (('sygn', 'akt'), 34531.62656993238),\n",
       " (('zw', 'z'), 32088.484780825333),\n",
       " (('związku', 'z'), 29483.45356562183),\n",
       " (('stycznia', 'r'), 27455.6964131868),\n",
       " (('z', 'dnia'), 25596.18387534353),\n",
       " (('dz', 'u'), 24742.67530888688),\n",
       " (('p', 'c'), 23040.262288962957),\n",
       " (('sp', 'z'), 22930.5772499504),\n",
       " (('grudnia', 'r'), 21317.997934416053),\n",
       " (('października', 'r'), 20641.980759875914),\n",
       " (('wraz', 'z'), 20216.365461446927),\n",
       " (('podstawie', 'art'), 20160.379198322524),\n",
       " (('uwagi', 'na'), 20101.871001320647),\n",
       " (('kwotę', 'zł'), 18385.62557430438),\n",
       " (('organ', 'rentowy'), 18330.33853901432),\n",
       " (('lipca', 'r'), 18060.943811455327),\n",
       " (('ocenie', 'sądu'), 18011.78364027379),\n",
       " (('listopada', 'r'), 17892.50105247245),\n",
       " (('art', 'ust'), 17443.330567661615),\n",
       " (('września', 'r'), 17085.267792186656),\n",
       " (('k', 'p'), 17030.818500855006),\n",
       " (('niezdolności', 'do'), 16749.438880605085),\n",
       " (('najwyższego', 'z'), 16633.772236114914),\n",
       " (('siedzibą', 'w'), 16537.58733490513),\n",
       " (('lutego', 'r'), 16531.077333574118),\n",
       " (('marca', 'r'), 16529.847638438645),\n",
       " (('co', 'do'), 16364.101965793321)]"
      ]
     },
     "execution_count": 53,
     "metadata": {},
     "output_type": "execute_result"
    }
   ],
   "source": [
    "log_like_vals = map(lambda bigram: (bigram, loglikelihood(bigram)) , counted_bigrams.keys())\n",
    "list(sorted(log_like_vals,key = itemgetter(1),reverse=True))[:30]"
   ]
  },
  {
   "cell_type": "code",
   "execution_count": 54,
   "metadata": {},
   "outputs": [
    {
     "data": {
      "text/plain": [
       "[(('art', 'k'), 427562.07548874523),\n",
       " (('zgodnie', 'z'), 374483.98616699036),\n",
       " (('ubezpieczeń', 'społecznych'), 302556.38991255977),\n",
       " (('sygn', 'akt'), 269955.3224631211),\n",
       " (('zw', 'z'), 244662.47029696775),\n",
       " (('z', 'dnia'), 240135.34041389034),\n",
       " (('związku', 'z'), 226178.21356401715),\n",
       " (('stycznia', 'r'), 213464.07958588324),\n",
       " (('p', 'c'), 185350.29950252373),\n",
       " (('dz', 'u'), 181535.44781765417),\n",
       " (('sp', 'z'), 166487.97431050992),\n",
       " (('grudnia', 'r'), 159479.7754754352),\n",
       " (('podstawie', 'art'), 154191.88291149423),\n",
       " (('października', 'r'), 153163.08282289314),\n",
       " (('wraz', 'z'), 144449.89635882087),\n",
       " (('k', 'p'), 143950.17680583615),\n",
       " (('uwagi', 'na'), 143930.7875716255),\n",
       " (('art', 'ust'), 142716.45451099842),\n",
       " (('kwotę', 'zł'), 134870.21974185703),\n",
       " (('lipca', 'r'), 131182.58810532847),\n",
       " (('ocenie', 'sądu'), 130143.80898456149),\n",
       " (('organ', 'rentowy'), 130054.93199177393),\n",
       " (('listopada', 'r'), 129971.66697702144),\n",
       " (('co', 'do'), 125070.89081724465),\n",
       " (('września', 'r'), 123046.66890194664),\n",
       " (('marca', 'r'), 118910.53053686801),\n",
       " (('lutego', 'r'), 118732.01819853466),\n",
       " (('najwyższego', 'z'), 117753.54083739626),\n",
       " (('umowy', 'o'), 117072.0265234043),\n",
       " (('niniejszej', 'sprawie'), 116170.99741018566)]"
      ]
     },
     "execution_count": 54,
     "metadata": {},
     "output_type": "execute_result"
    }
   ],
   "source": [
    "log_like_vals_weighted = map(lambda bigram: (bigram, log(counted_bigrams[bigram]) * loglikelihood(bigram)) , counted_bigrams.keys())\n",
    "list(sorted(log_like_vals_weighted,key = itemgetter(1),reverse=True))[:30]"
   ]
  }
 ],
 "metadata": {
  "kernelspec": {
   "display_name": "Python 3",
   "language": "python",
   "name": "python3"
  },
  "language_info": {
   "codemirror_mode": {
    "name": "ipython",
    "version": 3
   },
   "file_extension": ".py",
   "mimetype": "text/x-python",
   "name": "python",
   "nbconvert_exporter": "python",
   "pygments_lexer": "ipython3",
   "version": "3.6.3"
  }
 },
 "nbformat": 4,
 "nbformat_minor": 2
}
