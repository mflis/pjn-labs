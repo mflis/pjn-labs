{
 "cells": [
  {
   "cell_type": "code",
   "execution_count": 36,
   "metadata": {},
   "outputs": [],
   "source": [
    "import json\n",
    "import pandas\n",
    "import os\n",
    "import re\n",
    "from collections import Counter\n",
    "import matplotlib.pyplot as plt\n",
    "import numpy as np\n",
    "from  itertools import tee, chain, islice"
   ]
  },
  {
   "cell_type": "code",
   "execution_count": 37,
   "metadata": {},
   "outputs": [],
   "source": [
    "root_dir = '/home/marcin/Desktop/SemestrVIII/PJN'\n",
    "year = \"2018\"\n",
    "json_data_dir = f\"{root_dir}/data/json\"\n",
    "filesInYearPattern = 'judgments-(316[3-9]|317\\d)\\.json'"
   ]
  },
  {
   "cell_type": "code",
   "execution_count": 38,
   "metadata": {},
   "outputs": [],
   "source": [
    "def window(it, size=2):\n",
    "    yield from zip(*[islice(it, s, None) for s, it in enumerate(tee(it, size))])"
   ]
  },
  {
   "cell_type": "code",
   "execution_count": 39,
   "metadata": {},
   "outputs": [],
   "source": [
    "\n",
    "def bigrams(line): \n",
    "    notags =map(lambda text: re.sub(r\"<[^>]*>\", \" \", text),line)\n",
    "    nobreaks = map(lambda text: re.sub(r\"-\\n\", \" \", text), notags)\n",
    "    nodigits = map(lambda text: re.sub(r\"\\d+\", \" \", text), nobreaks)\n",
    "    noroman =map(lambda text:  re.sub(r\"\\b[XVILMC]+\\b\", \"\", text),nodigits)\n",
    "    lower = map(lambda text:  text.lower(), noroman)\n",
    "    words_iter = map(lambda text:  re.findall(r'\\w{2,}', text),lower)\n",
    "    bigram_tuples =map(lambda word_it: window(word_it,2),words_iter)\n",
    "    flattened  = chain(bigram_tuples)\n",
    "    bigrams =map(lambda tuple: f\"{tuple[0]} {tuple[1]}\", flattened) \n",
    "    return flattened\n",
    "                "
   ]
  },
  {
   "cell_type": "code",
   "execution_count": 40,
   "metadata": {},
   "outputs": [
    {
     "data": {
      "text/plain": [
       "(1, 2)"
      ]
     },
     "execution_count": 40,
     "metadata": {},
     "output_type": "execute_result"
    }
   ],
   "source": [
    "next(window([1,2,3,4,5]))"
   ]
  },
  {
   "cell_type": "code",
   "execution_count": 41,
   "metadata": {},
   "outputs": [
    {
     "data": {
      "text/plain": [
       "[0,\n",
       " 2,\n",
       " 4,\n",
       " 6,\n",
       " 8,\n",
       " 10,\n",
       " 12,\n",
       " 14,\n",
       " 16,\n",
       " 18,\n",
       " 20,\n",
       " 22,\n",
       " 24,\n",
       " 26,\n",
       " 28,\n",
       " 30,\n",
       " 32,\n",
       " 34,\n",
       " 36,\n",
       " 38,\n",
       " 40,\n",
       " 42,\n",
       " 44,\n",
       " 46,\n",
       " 48,\n",
       " 50,\n",
       " 52,\n",
       " 54,\n",
       " 56,\n",
       " 58,\n",
       " 60,\n",
       " 62,\n",
       " 64,\n",
       " 66,\n",
       " 68,\n",
       " 70,\n",
       " 72,\n",
       " 74,\n",
       " 76,\n",
       " 78,\n",
       " 80,\n",
       " 82,\n",
       " 84,\n",
       " 86,\n",
       " 88,\n",
       " 90,\n",
       " 92,\n",
       " 94,\n",
       " 96,\n",
       " 98]"
      ]
     },
     "execution_count": 41,
     "metadata": {},
     "output_type": "execute_result"
    }
   ],
   "source": [
    "[2 * n for n in range(50)]"
   ]
  },
  {
   "cell_type": "code",
   "execution_count": 42,
   "metadata": {},
   "outputs": [
    {
     "ename": "SyntaxError",
     "evalue": "invalid syntax (<ipython-input-42-dfdc0b8143e9>, line 15)",
     "output_type": "error",
     "traceback": [
      "\u001b[0;36m  File \u001b[0;32m\"<ipython-input-42-dfdc0b8143e9>\"\u001b[0;36m, line \u001b[0;32m15\u001b[0m\n\u001b[0;31m    lower = map(lambda text:  text.lower(), noroman)\u001b[0m\n\u001b[0m        ^\u001b[0m\n\u001b[0;31mSyntaxError\u001b[0m\u001b[0;31m:\u001b[0m invalid syntax\n"
     ]
    }
   ],
   "source": [
    "all_bigrams = []\n",
    "json_files = os.listdir(json_data_dir)\n",
    "judgements_in_year = list(filter(lambda name: re.match(filesInYearPattern, name), json_files))\n",
    "\n",
    "for filename in judgements_in_year:\n",
    "    with open(os.path.join(json_data_dir, filename), 'r') as jsonFile:\n",
    "        judgements = json.load(jsonFile)['items']\n",
    "    year_filtered = filter(lambda item: year in item['judgmentDate'], judgements)\n",
    "    \n",
    "    texts = map(lambda item: item['textContent'], year_filtered)\n",
    "    notags =map(lambda text: re.sub(r\"<[^>]*>\", \" \", text),texts)\n",
    "    nobreaks = map(lambda text: re.sub(r\"-\\n\", \" \", text), notags)\n",
    "    nodigits = map(lambda text: re.sub(r\"\\d+\", \" \", text), nobreaks)\n",
    "    noroman =map(lambda text:  re.sub(r\"\\b[XVILMC]+\\b\", \"\", text)\n",
    "    lower = map(lambda text:  text.lower(), noroman)\n",
    "    words_iter = map(lambda text:  re.findall(r'\\w{2,}', text))\n",
    "    bigram_tuples =map(lambda word_it: window(word_it,2))\n",
    "    flattened  = itertools.chain(bigram_tuples)\n",
    "    bigrams =map(lambda tuple: f\"{tuple[0] tuple[0]}\") \n",
    "                 \n",
    "    all_bigrams.append(bigrams)\n",
    "\n",
    "counted_words = Counter(re.findall(r'\\w{2,}', all_text))\n",
    "counted_words.most_common(10)"
   ]
  }
 ],
 "metadata": {
  "kernelspec": {
   "display_name": "Python 3",
   "language": "python",
   "name": "python3"
  },
  "language_info": {
   "codemirror_mode": {
    "name": "ipython",
    "version": 3
   },
   "file_extension": ".py",
   "mimetype": "text/x-python",
   "name": "python",
   "nbconvert_exporter": "python",
   "pygments_lexer": "ipython3",
   "version": "3.6.3"
  }
 },
 "nbformat": 4,
 "nbformat_minor": 2
}
