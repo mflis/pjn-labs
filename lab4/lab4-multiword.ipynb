{
 "cells": [
  {
   "cell_type": "code",
   "execution_count": 103,
   "metadata": {},
   "outputs": [],
   "source": [
    "import json\n",
    "import pandas\n",
    "import os\n",
    "import re\n",
    "from collections import Counter\n",
    "import matplotlib.pyplot as plt\n",
    "import numpy as np\n",
    "from  itertools import tee, chain, islice"
   ]
  },
  {
   "cell_type": "code",
   "execution_count": 104,
   "metadata": {},
   "outputs": [],
   "source": [
    "root_dir = '/home/marcin/Desktop/SemestrVIII/PJN'\n",
    "year = \"2018\"\n",
    "json_data_dir = f\"{root_dir}/data/json\"\n",
    "filesInYearPattern = 'judgments-(316[3-9]|317\\d)\\.json'"
   ]
  },
  {
   "cell_type": "code",
   "execution_count": 105,
   "metadata": {},
   "outputs": [],
   "source": [
    "def window(it, size=2):\n",
    "    yield from zip(*[islice(it, s, None) for s, it in enumerate(tee(it, size))])"
   ]
  },
  {
   "cell_type": "code",
   "execution_count": 106,
   "metadata": {},
   "outputs": [],
   "source": [
    "def bigrams(line): \n",
    "    notags = re.sub(r\"<[^>]*>\", \" \", line)\n",
    "    nobreaks =  re.sub(r\"-\\n\", \" \", notags)\n",
    "    nodigits =  re.sub(r\"\\d+\", \" \", nobreaks)\n",
    "    noroman =  re.sub(r\"\\b[XVILMC]+\\b\", \"\", nodigits)\n",
    "    lower =  noroman.lower()\n",
    "    words_iter =   re.findall(r'\\w+', lower)\n",
    "    bigram_tuples = window(words_iter,2)\n",
    "    bigrams = map(lambda tuple: f\"{tuple[0]} {tuple[1]}\", bigram_tuples) \n",
    "    return bigrams"
   ]
  },
  {
   "cell_type": "code",
   "execution_count": 107,
   "metadata": {},
   "outputs": [],
   "source": [
    "def judgement_texts(filename):\n",
    "    with open(os.path.join(json_data_dir, filename), 'r') as jsonFile:\n",
    "        judgements = json.load(jsonFile)['items'] \n",
    "    year_filtered = filter(lambda item: year in item['judgmentDate'], judgements)\n",
    "    yield from map(lambda item: item['textContent'], year_filtered)"
   ]
  },
  {
   "cell_type": "code",
   "execution_count": 108,
   "metadata": {},
   "outputs": [
    {
     "data": {
      "text/plain": [
       "[('z dnia', 11869),\n",
       " ('art k', 7184),\n",
       " ('w dniu', 5208),\n",
       " ('na podstawie', 4699),\n",
       " ('k p', 4686),\n",
       " ('w sprawie', 4657),\n",
       " ('z art', 4453),\n",
       " ('w tym', 4196),\n",
       " ('art ust', 3575),\n",
       " ('zgodnie z', 3378)]"
      ]
     },
     "execution_count": 108,
     "metadata": {},
     "output_type": "execute_result"
    }
   ],
   "source": [
    "json_files = os.listdir(json_data_dir)\n",
    "judgements_files= filter(lambda name: re.match(filesInYearPattern, name), json_files)\n",
    "texts =  chain.from_iterable(map(lambda file: judgement_texts(file), judgements_files))\n",
    "all_bigrams = chain.from_iterable(map(lambda line: bigrams(line),texts))\n",
    "   \n",
    "counted_words = Counter(all_bigrams)\n",
    "counted_words.most_common(10)"
   ]
  }
 ],
 "metadata": {
  "kernelspec": {
   "display_name": "Python 3",
   "language": "python",
   "name": "python3"
  },
  "language_info": {
   "codemirror_mode": {
    "name": "ipython",
    "version": 3
   },
   "file_extension": ".py",
   "mimetype": "text/x-python",
   "name": "python",
   "nbconvert_exporter": "python",
   "pygments_lexer": "ipython3",
   "version": "3.6.3"
  }
 },
 "nbformat": 4,
 "nbformat_minor": 2
}
