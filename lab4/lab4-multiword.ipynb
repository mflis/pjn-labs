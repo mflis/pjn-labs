{
 "cells": [
  {
   "cell_type": "code",
   "execution_count": 53,
   "metadata": {},
   "outputs": [],
   "source": [
    "import json\n",
    "import pandas\n",
    "import os\n",
    "import re\n",
    "from collections import Counter\n",
    "import matplotlib.pyplot as plt\n",
    "import numpy as np\n",
    "from  itertools import tee, chain, islice"
   ]
  },
  {
   "cell_type": "code",
   "execution_count": 54,
   "metadata": {},
   "outputs": [],
   "source": [
    "root_dir = '/home/marcin/Desktop/SemestrVIII/PJN'\n",
    "year = \"2018\"\n",
    "json_data_dir = f\"{root_dir}/data/json\"\n",
    "filesInYearPattern = 'judgments-(316[3-9]|317\\d)\\.json'"
   ]
  },
  {
   "cell_type": "code",
   "execution_count": 55,
   "metadata": {},
   "outputs": [],
   "source": [
    "def window(it, size=2):\n",
    "    yield from zip(*[islice(it, s, None) for s, it in enumerate(tee(it, size))])"
   ]
  },
  {
   "cell_type": "code",
   "execution_count": 58,
   "metadata": {},
   "outputs": [],
   "source": [
    "def bigrams(line): \n",
    "    notags = re.sub(r\"<[^>]*>\", \" \", line)\n",
    "    nobreaks =  re.sub(r\"-\\n\", \" \", notags)\n",
    "    nodigits =  re.sub(r\"\\d+\", \" \", nobreaks)\n",
    "    noroman =  re.sub(r\"\\b[XVILMC]+\\b\", \"\", nodigits)\n",
    "    lower =  noroman.lower()\n",
    "    words_iter =   re.findall(r'\\w{2,}', lower)\n",
    "    bigram_tuples = window(words_iter,2)\n",
    "    bigrams = map(lambda tuple: f\"{tuple[0]} {tuple[1]}\", bigram_tuples) \n",
    "    return bigrams"
   ]
  },
  {
   "cell_type": "code",
   "execution_count": 63,
   "metadata": {},
   "outputs": [
    {
     "data": {
      "text/plain": [
       "'ma kota'"
      ]
     },
     "execution_count": 63,
     "metadata": {},
     "output_type": "execute_result"
    }
   ],
   "source": [
    "t= bigrams(\"la ma kota\")\n",
    "next(t)\n",
    "next(t)"
   ]
  },
  {
   "cell_type": "code",
   "execution_count": null,
   "metadata": {},
   "outputs": [],
   "source": [
    "chain.from_iterable([\"ala ma kota\", \"kot ma alę\"])"
   ]
  },
  {
   "cell_type": "code",
   "execution_count": 68,
   "metadata": {},
   "outputs": [
    {
     "data": {
      "text/plain": [
       "[('na podstawie', 4700),\n",
       " ('art ust', 3756),\n",
       " ('do pracy', 2959),\n",
       " ('na rzecz', 2851),\n",
       " ('od dnia', 2824),\n",
       " ('ubezpieczeń społecznych', 2622),\n",
       " ('sygn akt', 2490),\n",
       " ('sąd okręgowy', 2451),\n",
       " ('do dnia', 2249),\n",
       " ('sąd rejonowy', 2173)]"
      ]
     },
     "execution_count": 68,
     "metadata": {},
     "output_type": "execute_result"
    }
   ],
   "source": [
    "all_bigrams = []\n",
    "json_files = os.listdir(json_data_dir)\n",
    "judgements_in_year = list(filter(lambda name: re.match(filesInYearPattern, name), json_files))\n",
    "\n",
    "for filename in judgements_in_year:\n",
    "    with open(os.path.join(json_data_dir, filename), 'r') as jsonFile:\n",
    "        judgements = json.load(jsonFile)['items']\n",
    "        \n",
    "    year_filtered = filter(lambda item: year in item['judgmentDate'], judgements)\n",
    "    texts = map(lambda item: item['textContent'], year_filtered)\n",
    "    all_bigrams.append( chain.from_iterable(map(lambda line: bigrams(line),texts)))\n",
    "   \n",
    "bigs =  chain.from_iterable(all_bigrams  )\n",
    "counted_words = Counter(bigs)\n",
    "counted_words.most_common(10)"
   ]
  }
 ],
 "metadata": {
  "kernelspec": {
   "display_name": "Python 3",
   "language": "python",
   "name": "python3"
  },
  "language_info": {
   "codemirror_mode": {
    "name": "ipython",
    "version": 3
   },
   "file_extension": ".py",
   "mimetype": "text/x-python",
   "name": "python",
   "nbconvert_exporter": "python",
   "pygments_lexer": "ipython3",
   "version": "3.6.3"
  }
 },
 "nbformat": 4,
 "nbformat_minor": 2
}
