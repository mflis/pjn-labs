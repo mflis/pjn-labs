{
 "cells": [
  {
   "cell_type": "code",
   "execution_count": 1,
   "metadata": {},
   "outputs": [],
   "source": [
    "from text_processing import *\n",
    "from sklearn.metrics import precision_recall_fscore_support\n",
    "from constants import *\n",
    "from functools import reduce"
   ]
  },
  {
   "cell_type": "code",
   "execution_count": 2,
   "metadata": {},
   "outputs": [],
   "source": [
    "file_selector = is_2017_in_file"
   ]
  },
  {
   "cell_type": "code",
   "execution_count": 3,
   "metadata": {},
   "outputs": [],
   "source": [
    "judgements_files = filter(file_selector, os.listdir(json_data_dir))\n",
    "texts = chain.from_iterable(map(lambda f: judgements_raw(f,json_data_dir), judgements_files))\n",
    "texts = islice(texts,2000)\n",
    "filtered = filter(filter_judgements, texts)"
   ]
  },
  {
   "cell_type": "code",
   "execution_count": 4,
   "metadata": {},
   "outputs": [],
   "source": [
    "with_categories = map(lambda j: WithCategory(j, map_category(j).label), filtered)\n",
    "cleaned = map(\n",
    "    lambda j: Line(j.judgement['id'], clean_text(j.judgement['textContent'], common_words), j.category),\n",
    "    with_categories)\n",
    "cleaned  = list(cleaned)"
   ]
  },
  {
   "cell_type": "markdown",
   "metadata": {},
   "source": [
    "### Nr of words in raw dataset"
   ]
  },
  {
   "cell_type": "code",
   "execution_count": 6,
   "metadata": {},
   "outputs": [
    {
     "data": {
      "text/plain": [
       "3686640"
      ]
     },
     "execution_count": 6,
     "metadata": {},
     "output_type": "execute_result"
    }
   ],
   "source": [
    "reduce(lambda x,y: x+y, map(lambda l: len(l.words.split()),cleaned))"
   ]
  },
  {
   "cell_type": "code",
   "execution_count": 7,
   "metadata": {},
   "outputs": [],
   "source": [
    "tuples = map(lambda l: (l.words,l.category),cleaned)\n",
    "listed = list(filter(lambda tup: tup[1] in ['civil', 'criminal', 'economic', 'insurance'],tuples))\n",
    "\n",
    "x_train, x_test, y_train, y_test = get_train_test_data(listed)\n",
    "\n"
   ]
  },
  {
   "cell_type": "code",
   "execution_count": 8,
   "metadata": {},
   "outputs": [
    {
     "name": "stdout",
     "output_type": "stream",
     "text": [
      "             precision    recall  f1-score   support\n",
      "\n",
      "          0       0.90      0.97      0.93       167\n",
      "          1       1.00      0.99      0.99        79\n",
      "          2       0.75      0.10      0.18        30\n",
      "          3       1.00      0.99      0.99        78\n",
      "\n",
      "avg / total       0.93      0.90      0.89       354\n",
      "\n"
     ]
    }
   ],
   "source": [
    "pipeline = Pipeline([\n",
    "    ('tfidf', TfidfVectorizer(stop_words = common_words)),\n",
    "    ('clf', OneVsRestClassifier(LinearSVC())),\n",
    "])\n",
    "\n",
    "pipeline.fit(x_train, y_train)\n",
    "predictions = pipeline.predict(x_test)\n",
    "\n",
    "print(classification_report(y_test, predictions))"
   ]
  },
  {
   "cell_type": "code",
   "execution_count": 9,
   "metadata": {},
   "outputs": [
    {
     "data": {
      "text/plain": [
       "(0.9411764705882353, 0.903954802259887, 0.9221902017291066, None)"
      ]
     },
     "execution_count": 9,
     "metadata": {},
     "output_type": "execute_result"
    }
   ],
   "source": [
    "precision_recall_fscore_support(y_test, predictions,average= 'micro')"
   ]
  },
  {
   "cell_type": "code",
   "execution_count": 10,
   "metadata": {},
   "outputs": [
    {
     "data": {
      "text/plain": [
       "(0.9112569060773481, 0.7611452848927267, 0.7736710078347743, None)"
      ]
     },
     "execution_count": 10,
     "metadata": {},
     "output_type": "execute_result"
    }
   ],
   "source": [
    "precision_recall_fscore_support(y_test, predictions,average= 'macro')"
   ]
  },
  {
   "cell_type": "code",
   "execution_count": 11,
   "metadata": {},
   "outputs": [],
   "source": [
    "cat_id = dict(map(lambda line: (line.id, line.category), cleaned))\n",
    "tagged_categories = list(tagged(cat_id))"
   ]
  },
  {
   "cell_type": "code",
   "execution_count": 13,
   "metadata": {},
   "outputs": [
    {
     "data": {
      "text/plain": [
       "('sygnatura:brev akt:subst ka:subst wyrok:subst imię:subst rzeczpospolita:subst polski:adj maj:subst okręgowy:adj toruń:subst skład:subst przewodniczący:subst s:brev s:brev o:brev aleksandra:subst nowicka:subst sędzia:subst s:brev s:brev o:brev barbar:subst plewińska:subst s:brev s:brev o:brev rafał:subst sadowski:subst spr:subst protokolant:subst stopień:brev sekr:brev katarzyna:subst kotarska:subst przy:prep udział:subst prokurator:subst prok:subst rejon:subst toruń:subst centrum:subst zachód:subst marcin:subst reszkowskiego:subst po:prep rozpoznać:ger maj:subst sprawa:subst r:brev oskarżyć:ppas kk:brev zw:brev kk:brev oraz:conj kk:brev zw:brev kk:brev skutek:subst apelacja:subst wnieść:ppas oskarżony:subst oraz:conj obrońca:subst wyrok:subst rejonowy:adj toruń:subst październik:subst sygnatura:brev akt:subst k:subst zaskarżyć:ppas wyrok:subst całość:subst utrzymywać:fin moc:subst zasądzać:fin skarb:subst państwo:subst rejonowy:adj toruń:subst rzecz:subst kancelaria:subst adwokacki:adj adw:brev g:brev pięćset:num szesnaście:num złoty:subst sześćdziesiąt:num grosz:subst złoty:brev brutto:adj tytuł:subst zwrot:subst koszt:subst opłacić:ppas pomoc:subst prawny:adj udzielić:ppas oskarżony:subst urząd:subst postępowanie:subst odwoławczy:adj zwalniać:fin oskarżony:subst obowiązek:subst uiścić:ger koszt:subst sądowy:adj postępowanie:subst odwoławczy:adj a:conj wydatek:subst postępowanie:subst obciążać:fin skarb:subst państwo:subst sygnatura:brev akt:subst ka:subst uzasadnienie:subst istota:subst obydwa:num apelacja:subst sprowadzać:fin zagadnienie:subst czy:qub zebrać:ppas materiał:subst dowodowy:adj pozwalać:fin przypisać:ger oskarżony:subst drugi:adj kradzież:subst miejsce:subst zarzucić:ppas paserstwo:subst a:conj jeżeli:comp tak:qub to:conj czy:qub zmiana:subst opis:subst czyn:subst kwalifikacja:subst prawny:adj dokonać:ppas meriti:subst przekroczyć:praet granica:subst akt:subst oskarżenie:subst inny:adj słowy:adj czy:qub czyn:subst przypisać:ppas oskarżony:subst być:fin tożsamy:adj czyn:subst zarzucić:ppas rozstrzygać:pcon pierwszy:adj kwestia:subst odwoławczy:adj uznać:praet mieć:fin wątpliwość:subst iż:comp to:qub oskarżony:subst dokonać:praet kradzież:subst przedmiot:subst objąć:ppas postawić:ppas zarzut:subst paserstwo:subst dowodzić:fin to:subst analiza:subst modus:subst operandi:subst sprawca:subst obydwa:num czyn:subst wskazywać:pact prawdopodobnie:adv obydwa:num kradzież:subst dokonać:praet sam:adj osoba:subst bezsporny:adj okoliczność:subst wynikać:pact także:qub wyjaśnienie:subst oskarżony:subst oskarżony:subst czas:subst dokonać:ger kradzież:subst znajdować:praet pobliże:subst miejsce:subst a:conj przed:prep wszystko:subst wejść:ger posiadać:ger skraść:ppas skrzynka:subst narzędziowy:adj krótki:adj czas:subst po:prep kradzież:subst okoliczność:subst należeć:praet by:qub uznać:inf za:prep poszlaka:subst przemawiać:pact za:prep sprawstwo:subst kradzież:subst oskarżony:subst ale:conj niezbicie:adv dowodzić:fin istota:subst tylko:qub paserstwo:subst poprzez:prep nabyć:ger skraść:ppas skrzynka:subst narzędziowy:adj dowód:subst przesądzać:pact sprawstwo:subst kradzież:subst być:fin natomiast:conj zeznanie:subst d:brev g:brev który:adj wynikać:fin oskarżony:subst przyznać:praet dokonać:ger kradzież:subst oraz:conj być:praet posiadanie:subst także:qub laptop:subst skraść:ppas również:qub podczas:prep sam:adj włamanie:subst co:subst potwierdzić:praet pokrzywdzony:subst skraść:ppas laptop:subst móc:praet wiedzieć:inf tylko:qub sprawca:subst kradzież:subst bowiem:comp pokrzywdzić:ppas swój:adj zeznanie:subst pierwotnie:adv przedmiot:subst mówić:praet być:fin wprawdzie:qub hipotetycznie:adv możliwy:adj świadek:subst g:brev sam:adj być:fin sprawca:subst kradzież:subst co:subst zresztą:qub sugerować:fin oskarżyć:ppas swój:adj apelacja:subst ale:conj zeznanie:subst jawić:fin jako:conj wiarygodny:adj przeciwieństwo:subst wyjaśnienie:subst oskarżony:subst który:adj ewidentnie:adv kłamać:praet sprawa:subst pierwotnie:adv bowiem:comp twierdzić:praet znaleźć:praet skrzynka:subst narzędziowy:adj klatka:subst schodowy:adj zaś:conj późno:adv zmienić:praet wersja:subst twierdzić:pcon dostać:praet g:brev naiwność:subst być:praet by:qub założenie:subst oskarżony:subst swój:adj pierwotny:adj wyjaśnienie:subst chcieć:praet chronić:inf kolega:subst bowiem:comp istota:subst przyznać:praet przywłaszczyć:ger rzecz:subst znaleźć:ppas a:conj trudno:adv zakładać:inf oskarżony:subst sam:adj gotowy:adjc być:praet ponieść:inf odpowiedzialność:subst karny:adj by:comp chronić:inf g:brev odwoławczy:adj pełnia:subst podzielać:fin dokonać:ppas meriti:adj ocena:subst zeznanie:subst d:brev g:brev jak:conj wyjaśnienie:subst oskarżony:subst gdyż:comp pozostawać:fin pod:prep ochrona:subst kpk:subst skoro:comp zostać:praet udowodnić:ppas oskarżony:subst być:praet sprawca:subst obydwa:num włamanie:subst należeć:fin rozważyć:inf czy:qub przypisać:ppas kradzież:subst włamanie:subst mieścić:fin granica:subst tożsamość:subst czyn:subst zarzucić:ppas czyli:conj paserstwo:subst wprawdzie:qub paserstwo:subst co:comp zasada:subst dokonywać:fin inny:adj czas:subst inny:adj miejsce:subst niż:conj poprzedzać:pact kradzież:subst a:conj sposób:subst działać:ger sprawca:subst być:fin również:qub inny:adj to:subst jednak:conj orzecznictwo:subst powszechnie:adv przyjąć:praet jeżeli:comp oskarżony:subst zarzucić:imps kradzież:subst zaś:conj można:pred udowodnić:inf jedynie:qub nabyć:ger skraść:ppas mienie:subst to:conj móc:fin zmienić:inf opis:subst czyn:subst kwalifikacja:subst przypisywać:pcon oskarżyć:ppas kradzież:subst paserstwo:subst skraść:ppas rzecz:subst skoro:comp taki:adj zabieg:subst być:fin dopuszczalny:adj kierunek:subst to:conj konsekwentnie:adv uznać:inf należeć:fin naruszać:fin tożsamość:subst czyn:subst kierunek:subst przeciwny:adj czyli:conj poprzez:prep zmiana:subst kwalifikacja:subst prawny:adj paserstwo:subst kradzież:subst istota:subst chodzić:fin bowiem:comp przestępczy:adj nabyć:ger mienie:subst ramy:subst sam:adj zdarzenie:subst faktyczny:adj sprawa:subst zostać:praet udowodnić:ppas oskarżony:subst nabyć:praet wskazać:ppas zarzut:subst mienie:subst droga:subst kradzież:subst włamanie:subst za:prep chybić:ppas uznać:inf należeć:fin także:qub zarzut:subst apelacja:subst obrońca:subst dotyczyć:pact wymiar:subst kara:subst oskarżony:subst zostać:praet skazać:ppas za:prep dwa:num kradzież:subst włamanie:subst za:prep co:subst grozić:praet kra:subst przy:prep uwzględnić:ger sankcja:subst kk:brev pozbawienie:subst wolność:subst aspekt:subst karo:subst miesiąc:subst a:conj więc:conj nieznacznie:adv przekraczać:pact minimalny:adj ustawowy:adj zagrożenie:subst jawić:fin jako:conj łagodny:adj zwłaszcza:qub wobec:prep recydywista:subst podstawa:subst kpk:brev zw:brev kpk:adj odwoławczy:adj zwolnić:praet oskarżony:subst obowiązek:subst uiścić:ger koszt:subst sądowy:adj należny:adj za:prep drugi:adj instancja:subst obciążać:pcon wydatek:subst postępowanie:subst odwoławczy:adj to:subst nieopłaconymi:adj koszt:subst pomoc:subst prawny:adj udzielić:ppas oskarżony:subst urząd:subst postępowanie:subst odwoławczy:adj skarb:subst państwo:subst albowiem:comp przemawiać:fin za:prep to:subst sytuacja:subst majątkowy:adj osobisty:adj możliwość:subst płatniczy:adj oskarżony:subst być:fin niewielki:adj oskarżony:subst przebywać:fin zakład:subst karny:adj co:subst istotnie:adv ograniczać:fin możliwość:subst zarobkować:ger dodatkowo:adv oskarżony:subst posiadać:fin żaden:adj majątek:subst wysokość:subst koszt:subst pomoc:subst prawny:adj udzielić:ppas oskarżony:subst urząd:subst postępowanie:subst odwoławczy:adj ustalić:ppas zostać:praet po:prep myśl:subst ustęp:brev punkt:brev zw:brev ustęp:brev rozporządzenie:subst minister:subst sprawiedliwość:subst październik:subst sprawa:subst ponosić:ger skarb:subst państwo:subst koszt:subst opłacić:ppas pomoc:subst prawny:adj udzielić:ppas adwokat:subst urząd:subst dziennik:brev ustawa:brev z:prep\\n',\n",
       " 'criminal')"
      ]
     },
     "execution_count": 13,
     "metadata": {},
     "output_type": "execute_result"
    }
   ],
   "source": [
    "tuples = map(lambda l: (l.words,l.category),tagged_categories)\n",
    "listed = list(filter(lambda tup: tup[1] in ['civil', 'criminal', 'economic', 'insurance'],tuples))"
   ]
  },
  {
   "cell_type": "code",
   "execution_count": 14,
   "metadata": {},
   "outputs": [],
   "source": [
    "x_train, x_test, y_train, y_test = get_train_test_data(listed)"
   ]
  },
  {
   "cell_type": "code",
   "execution_count": 15,
   "metadata": {},
   "outputs": [
    {
     "name": "stdout",
     "output_type": "stream",
     "text": [
      "             precision    recall  f1-score   support\n",
      "\n",
      "          0       0.86      0.97      0.91       167\n",
      "          1       1.00      0.95      0.97        79\n",
      "          2       1.00      0.03      0.06        30\n",
      "          3       1.00      0.94      0.97        78\n",
      "\n",
      "avg / total       0.93      0.88      0.87       354\n",
      "\n"
     ]
    }
   ],
   "source": [
    "pipeline = Pipeline([\n",
    "    ('tfidf', TfidfVectorizer(stop_words = common_words)),\n",
    "    ('clf', OneVsRestClassifier(LinearSVC())),\n",
    "])\n",
    "\n",
    "pipeline.fit(x_train, y_train)\n",
    "predictions = pipeline.predict(x_test)\n",
    "\n",
    "print(classification_report(y_test, predictions))"
   ]
  },
  {
   "cell_type": "code",
   "execution_count": 16,
   "metadata": {},
   "outputs": [
    {
     "name": "stdout",
     "output_type": "stream",
     "text": [
      "             precision    recall  f1-score   support\n",
      "\n",
      "          0       0.86      0.97      0.91       167\n",
      "          1       1.00      0.95      0.97        79\n",
      "          2       1.00      0.03      0.06        30\n",
      "          3       1.00      0.94      0.97        78\n",
      "\n",
      "avg / total       0.93      0.88      0.87       354\n",
      "\n"
     ]
    }
   ],
   "source": [
    "pipeline = Pipeline([\n",
    "    ('tfidf', TfidfVectorizer(stop_words = common_tagged_words)),\n",
    "    ('clf', OneVsRestClassifier(LinearSVC())),\n",
    "])\n",
    "\n",
    "pipeline.fit(x_train, y_train)\n",
    "predictions = pipeline.predict(x_test)\n",
    "\n",
    "print(classification_report(y_test, predictions))"
   ]
  },
  {
   "cell_type": "code",
   "execution_count": 17,
   "metadata": {},
   "outputs": [
    {
     "data": {
      "text/plain": [
       "(0.9201183431952663, 0.8785310734463276, 0.8988439306358381, None)"
      ]
     },
     "execution_count": 17,
     "metadata": {},
     "output_type": "execute_result"
    }
   ],
   "source": [
    "precision_recall_fscore_support(y_test, predictions,average= 'micro')"
   ]
  },
  {
   "cell_type": "code",
   "execution_count": 18,
   "metadata": {},
   "outputs": [
    {
     "data": {
      "text/plain": [
       "(0.9642857142857143, 0.7221644345194713, 0.7288854699568342, None)"
      ]
     },
     "execution_count": 18,
     "metadata": {},
     "output_type": "execute_result"
    }
   ],
   "source": [
    "precision_recall_fscore_support(y_test, predictions,average= 'macro')"
   ]
  }
 ],
 "metadata": {
  "kernelspec": {
   "display_name": "Python 3",
   "language": "python",
   "name": "python3"
  },
  "language_info": {
   "codemirror_mode": {
    "name": "ipython",
    "version": 3
   },
   "file_extension": ".py",
   "mimetype": "text/x-python",
   "name": "python",
   "nbconvert_exporter": "python",
   "pygments_lexer": "ipython3",
   "version": "3.6.3"
  }
 },
 "nbformat": 4,
 "nbformat_minor": 2
}
