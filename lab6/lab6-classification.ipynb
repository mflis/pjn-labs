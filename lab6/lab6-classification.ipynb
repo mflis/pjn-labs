{
 "cells": [
  {
   "cell_type": "code",
   "execution_count": 1,
   "metadata": {},
   "outputs": [],
   "source": [
    "from text_processing import *\n",
    "from constants import *"
   ]
  },
  {
   "cell_type": "code",
   "execution_count": 2,
   "metadata": {},
   "outputs": [],
   "source": [
    "file_selector = is_2018_in_file"
   ]
  },
  {
   "cell_type": "code",
   "execution_count": 3,
   "metadata": {},
   "outputs": [],
   "source": [
    "judgements_files = filter(file_selector, os.listdir(json_data_dir))\n",
    "texts = chain.from_iterable(map(lambda f: judgements_raw(f,json_data_dir), judgements_files))\n",
    "texts = islice(texts,3000)\n",
    "filtered = filter(filter_judgements, texts)\n",
    "\n",
    "with_categories = map(lambda j: WithCategory(j, map_category(j).label), filtered)\n",
    "cleaned = map(\n",
    "    lambda j: Line(j.judgement['id'], clean_text(j.judgement['textContent'], common_words), j.category),\n",
    "    with_categories)\n",
    "cleaned  = list(cleaned)\n"
   ]
  },
  {
   "cell_type": "code",
   "execution_count": 4,
   "metadata": {},
   "outputs": [],
   "source": [
    "tuples = map(lambda l: (l.words,l.category),cleaned)\n",
    "listed = list(filter(lambda tup: tup[1] in ['civil', 'criminal', 'economic', 'insurance'],tuples))\n",
    "\n",
    "x_train, x_test, y_train, y_test = get_train_test_data(listed)"
   ]
  },
  {
   "cell_type": "code",
   "execution_count": 5,
   "metadata": {},
   "outputs": [
    {
     "name": "stdout",
     "output_type": "stream",
     "text": [
      "             precision    recall  f1-score   support\n",
      "\n",
      "      civil       0.00      0.00      0.00        48\n",
      "   criminal       0.19      1.00      0.32        30\n",
      "   economic       0.00      0.00      0.00        24\n",
      "  insurance       0.00      0.00      0.00        56\n",
      "\n",
      "avg / total       0.04      0.19      0.06       158\n",
      "\n"
     ]
    },
    {
     "name": "stderr",
     "output_type": "stream",
     "text": [
      "/home/marcin/tens1-6/lib/python3.6/site-packages/sklearn/metrics/classification.py:1135: UndefinedMetricWarning: Precision and F-score are ill-defined and being set to 0.0 in labels with no predicted samples.\n",
      "  'precision', 'predicted', average, warn_for)\n"
     ]
    }
   ],
   "source": [
    "pipeline = Pipeline([\n",
    "    ('tfidf', TfidfVectorizer(stop_words = common_words)),\n",
    "    ('clf', OneVsRestClassifier(LinearSVC())),\n",
    "])\n",
    "\n",
    "pipeline.fit(x_train, y_train)\n",
    "predictions = pipeline.predict(y_test)\n",
    "\n",
    "print(classification_report(y_test, predictions))"
   ]
  },
  {
   "cell_type": "code",
   "execution_count": 6,
   "metadata": {},
   "outputs": [],
   "source": [
    "cat_id = dict(map(lambda line: (line.id, line.category), cleaned))\n",
    "tagged_categories = list(tagged(cat_id))"
   ]
  }
 ],
 "metadata": {
  "kernelspec": {
   "display_name": "Python 3",
   "language": "python",
   "name": "python3"
  },
  "language_info": {
   "codemirror_mode": {
    "name": "ipython",
    "version": 3
   },
   "file_extension": ".py",
   "mimetype": "text/x-python",
   "name": "python",
   "nbconvert_exporter": "python",
   "pygments_lexer": "ipython3",
   "version": "3.6.3"
  }
 },
 "nbformat": 4,
 "nbformat_minor": 2
}
