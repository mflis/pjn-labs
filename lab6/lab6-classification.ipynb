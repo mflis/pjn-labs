{
 "cells": [
  {
   "cell_type": "code",
   "execution_count": 140,
   "metadata": {},
   "outputs": [],
   "source": [
    "import json\n",
    "import pandas\n",
    "import os\n",
    "import re\n",
    "from collections import Counter\n",
    "import matplotlib.pyplot as plt\n",
    "import numpy as np\n",
    "from  itertools import tee, chain, islice, groupby\n",
    "from math import log\n",
    "from operator import itemgetter\n",
    "from itertools import takewhile\n",
    "import requests\n",
    "import re"
   ]
  },
  {
   "cell_type": "markdown",
   "metadata": {},
   "source": [
    "### Remarks\n",
    "- 2018 has 990 judgements. 786 has justification. That means 20% of judgements has no justification. Quite weird. It turns out that half of these judgements contains word `oddalać (remove)` in some form. What about rest of judgements? Why they do not contain justification?   "
   ]
  },
  {
   "cell_type": "code",
   "execution_count": 141,
   "metadata": {},
   "outputs": [],
   "source": [
    "root_dir = '/home/marcin/Desktop/SemestrVIII/PJN'\n",
    "year = \"2018\"\n",
    "json_data_dir = f\"{root_dir}/data/json\"\n",
    "\n",
    "patterns = {\n",
    "    re.compile('A?C.*') : 'civil',\n",
    "    re.compile('A?U.*') : 'insurance',\n",
    "    re.compile('A?K.*') : 'criminal', \n",
    "    re.compile('G.*') :  'economic',\n",
    "    re.compile('A?P.*'): 'work', \n",
    "    re.compile('R.*'): 'family', \n",
    "    re.compile('W.*') : 'violations', \n",
    "    re.compile('Am.*'): 'competition'  ,\n",
    "    re.compile('.*'): 'other' \n",
    "    \n",
    "    }\n",
    "\n",
    "common_words = ['w', 'z', 'na', 'i', 'do',\n",
    " 'nie', 'o', 'k', 'r', 'że',\n",
    " 'art', 'dnia', 'się', 'od', 'a',\n",
    " 'przez', 'sąd', 'roku', 'pracy', 'za']\n",
    "\n",
    "def extract_file_number(filename):\n",
    "    return int(filename.split('-')[1].split('.')[0])\n",
    "\n",
    "def is_2017_in_file(filename):\n",
    "    return 2716 <= extract_file_number(filename) <= 3163 \n",
    "\n",
    "def is_2018_in_file(filename):\n",
    "    return 3163 <= extract_file_number(filename) <=  3173\n",
    "\n",
    "def clean_text(line):\n",
    "    justification = line.split('<h2>UZASADNIENIE</h2>')[1]\n",
    "    notags = re.sub(r\"<[^>]*>\", \" \", justification)\n",
    "    nobreaks =  re.sub(r\"-\\n\", \" \", notags)\n",
    "    nodigits =  re.sub(r\"\\d+\", \" \", nobreaks)\n",
    "    noromans = re.sub(r\"\\b[XVILMC]+\\b\", \"\", nodigits)\n",
    "    lower = noromans.lower()\n",
    "    words =  filter(lambda x: x not in common_words, re.findall(r\"\\w+\",lower))\n",
    "    return words\n",
    "\n",
    "def filter_judgements(judgement):\n",
    "    return year in judgement['judgmentDate']  and \\\n",
    "    judgement['courtType'] in ['COMMON', 'SUPREME'] and \\\n",
    "    '<h2>UZASADNIENIE</h2>' in judgement['textContent']\n",
    "\n",
    "def map_category(judgement):\n",
    "    caseNumber = judgement['courtCases'][0]['caseNumber'].split(' ')\n",
    "    _, label = next(filter(lambda pat : pat[0].match(caseNumber[1]),patterns.items()))\n",
    "    return label, caseNumber\n",
    "\n",
    "def judgements_raw(filename):\n",
    "    with open(os.path.join(json_data_dir, filename), 'r') as jsonFile:\n",
    "        judgements = json.load(jsonFile)['items'] \n",
    "    return judgements"
   ]
  },
  {
   "cell_type": "code",
   "execution_count": 142,
   "metadata": {},
   "outputs": [],
   "source": [
    "judgements_files= filter(is_2018_in_file, os.listdir(json_data_dir))\n",
    "texts =  chain.from_iterable(map( judgements_raw, judgements_files))\n",
    "filtered = filter(filter_judgements,texts)\n",
    "with_categories = map(lambda j: (j,map_category(j)), filtered)\n",
    "cleaned = map(lambda j: (j[0]['id'], clean_text(j[0]['textContent']),j[1][0],j[1][1]) ,\n",
    "             with_categories) \n",
    "sorted_categories = sorted(cleaned,key = itemgetter(2))\n",
    "groups = groupby(sorted_categories,itemgetter(2))\n",
    "grouped = dict((k, list(g)) for k, g in groups)    "
   ]
  },
  {
   "cell_type": "code",
   "execution_count": 143,
   "metadata": {},
   "outputs": [
    {
     "data": {
      "text/plain": [
       "[(323022, <filter at 0x7fb1760544a8>, 'other', ['I', 'Ns', '514/15']),\n",
       " (320990, <filter at 0x7fb17d17c588>, 'other', ['I', 'Ns', '96/17']),\n",
       " (321229, <filter at 0x7fb17d152668>, 'other', ['I', 'Ns', '92/16']),\n",
       " (322819, <filter at 0x7fb17cea4518>, 'other', ['I', 'Ns', '613/14']),\n",
       " (326268, <filter at 0x7fb17a81df98>, 'other', ['III', 'Nsm', '815/17']),\n",
       " (324484, <filter at 0x7fb178ba97f0>, 'other', ['X', 'Ns', '753/17']),\n",
       " (324523, <filter at 0x7fb1789cbc18>, 'other', ['XVI', 'Ns', '577/15']),\n",
       " (326357, <filter at 0x7fb176b9bf98>, 'other', ['I', 'Ns', '90/16']),\n",
       " (326355, <filter at 0x7fb17882bda0>, 'other', ['I', 'Ns', '252/17']),\n",
       " (326356, <filter at 0x7fb178807cc0>, 'other', ['I', 'Ns', '452/16']),\n",
       " (326196, <filter at 0x7fb17c331f60>, 'other', ['I', 'Ns', '31/17']),\n",
       " (324819, <filter at 0x7fb17ad3a5f8>, 'other', ['IV', 'Nsm', '907/17']),\n",
       " (325510, <filter at 0x7fb17a394630>, 'other', ['I', 'Ns', '228/17']),\n",
       " (325951, <filter at 0x7fb176114828>, 'other', ['II', 'S', '3/17']),\n",
       " (325893, <filter at 0x7fb176699f28>, 'other', ['I', 'Ns', '832/16']),\n",
       " (325651, <filter at 0x7fb17837cba8>, 'other', ['I', 'Ns', '449/16']),\n",
       " (322524, <filter at 0x7fb17cd06ba8>, 'other', ['I', 'Ns', '182/16']),\n",
       " (323949, <filter at 0x7fb17cc405c0>, 'other', ['III', 'Nsm', '269/17']),\n",
       " (324521, <filter at 0x7fb17cb156a0>, 'other', ['XVI', 'Ns', '1727/15']),\n",
       " (323463, <filter at 0x7fb17bb73da0>, 'other', ['I', 'Ns', '312/17']),\n",
       " (320515, <filter at 0x7fb1779cfa20>, 'other', ['X', 'Ns', '454/14']),\n",
       " (321593, <filter at 0x7fb177964e48>, 'other', ['I', 'Ns', '308/17']),\n",
       " (325346, <filter at 0x7fb1769fc860>, 'other', ['VI', 'Nsm', '1176/17'])]"
      ]
     },
     "execution_count": 143,
     "metadata": {},
     "output_type": "execute_result"
    }
   ],
   "source": [
    "grouped['other']"
   ]
  }
 ],
 "metadata": {
  "kernelspec": {
   "display_name": "Python 3",
   "language": "python",
   "name": "python3"
  },
  "language_info": {
   "codemirror_mode": {
    "name": "ipython",
    "version": 3
   },
   "file_extension": ".py",
   "mimetype": "text/x-python",
   "name": "python",
   "nbconvert_exporter": "python",
   "pygments_lexer": "ipython3",
   "version": "3.6.3"
  }
 },
 "nbformat": 4,
 "nbformat_minor": 2
}
